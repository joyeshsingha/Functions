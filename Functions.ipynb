{
  "nbformat": 4,
  "nbformat_minor": 0,
  "metadata": {
    "colab": {
      "provenance": [],
      "collapsed_sections": [
        "jk_CI9QB7KxZ"
      ]
    },
    "kernelspec": {
      "name": "python3",
      "display_name": "Python 3"
    },
    "language_info": {
      "name": "python"
    }
  },
  "cells": [
    {
      "cell_type": "markdown",
      "source": [
        "# Theory Question"
      ],
      "metadata": {
        "id": "u1ntYaNs8xUh"
      }
    },
    {
      "cell_type": "markdown",
      "source": [
        "**1. What is the difference between a function and a method in Python?**  \n",
        "A function is a block of code that performs a task and is defined using `def` at the top level of a module.  \n",
        "A method is a function that belongs to an object (it is defined inside a class and called on an instance).\n",
        "\n",
        "Example:\n",
        "```python\n",
        "def greet():        # function\n",
        "    return \"Hello\"\n",
        "\n",
        "class Person:\n",
        "    def speak(self):  # method\n",
        "        return \"Hi\"\n",
        "\n",
        "print(greet())\n",
        "p = Person()\n",
        "print(p.speak())\n",
        "```\n",
        "\n",
        "---\n",
        "\n",
        "**2. Explain the concept of function arguments and parameters in Python.**  \n",
        "Parameters are the names listed in the function definition.  \n",
        "Arguments are the actual values you pass when calling the function.\n",
        "\n",
        "Example:\n",
        "```python\n",
        "def add(a, b):  # a and b are parameters\n",
        "    return a + b\n",
        "\n",
        "print(add(2, 3))  # 2 and 3 are arguments\n",
        "```\n",
        "\n",
        "---\n",
        "\n",
        "**3. What are the different ways to define and call a function in Python?**\n",
        "- Using def  \n",
        "- Using lambda (anonymous function)  \n",
        "- Calling with positional or keyword arguments  \n",
        "\n",
        "Example:\n",
        "```python\n",
        "def square(x):   # def\n",
        "    return x * x\n",
        "\n",
        "double = lambda y: y * 2  # lambda\n",
        "\n",
        "print(square(4))\n",
        "print(double(5))\n",
        "print(square(x=6))  # keyword argument\n",
        "```\n",
        "\n",
        "---\n",
        "\n",
        "**4. What is the purpose of the return statement in a Python function?**  \n",
        "return sends a value back to the caller and ends the function.\n",
        "\n",
        "Example:\n",
        "```python\n",
        "def multiply(a, b):\n",
        "    return a * b\n",
        "\n",
        "result = multiply(3, 4)\n",
        "print(result)\n",
        "```\n",
        "\n",
        "---\n",
        "\n",
        "**5. What are iterators in Python and how do they differ from iterables?**  \n",
        "- Iterable: An object you can loop over (e.g., list, string, tuple).  \n",
        "- Iterator: An object with __next__() that returns items one by one.\n",
        "\n",
        "Example:\n",
        "```python\n",
        "nums = [1, 2, 3]       # iterable\n",
        "it = iter(nums)        # iterator\n",
        "print(next(it))\n",
        "print(next(it))\n",
        "```\n",
        "\n",
        "---\n",
        "\n",
        "**6. Explain the concept of generators in Python and how they are defined.**  \n",
        "Generators are special functions that yield items one at a time using `yield`, creating an iterator without storing all items in memory.\n",
        "\n",
        "Example:\n",
        "```python\n",
        "def count_up_to(n):\n",
        "    i = 1\n",
        "    while i <= n:\n",
        "        yield i\n",
        "        i += 1\n",
        "\n",
        "for num in count_up_to(3):\n",
        "    print(num)\n",
        "```\n",
        "\n",
        "---\n",
        "\n",
        "**7. What are the advantages of using generators over regular functions?**  \n",
        "- Memory efficient (values produced on the fly)  \n",
        "- Suitable for large data streams  \n",
        "\n",
        "Example: (same as above generator example)\n",
        "\n",
        "---\n",
        "\n",
        "**8. What is a lambda function in Python and when is it typically used?**  \n",
        "A small anonymous function defined with `lambda`, used for short, throw-away functions.\n",
        "\n",
        "Example:\n",
        "```python\n",
        "add = lambda x, y: x + y\n",
        "print(add(5, 7))\n",
        "```\n",
        "\n",
        "---\n",
        "\n",
        "**9. Explain the purpose and usage of the `map()` function in Python.**  \n",
        "map(function, iterable) applies a function to every item in an iterable.\n",
        "\n",
        "Example:\n",
        "```python\n",
        "nums = [1, 2, 3]\n",
        "squared = list(map(lambda x: x**2, nums))\n",
        "print(squared)\n",
        "```\n",
        "\n",
        "---\n",
        "\n",
        "**10. What is the difference between map(), reduce(), and filter() functions in Python?**  \n",
        "- **map()**: Applies a function to each element and returns a new iterable.  \n",
        "- **filter()**: Returns elements for which the function is True.  \n",
        "- **reduce()**: Reduces an iterable to a single value by repeatedly applying a function.\n",
        "\n",
        "Example:\n",
        "```python\n",
        "from functools import reduce\n",
        "\n",
        "nums = [1, 2, 3, 4]\n",
        "\n",
        "print(list(map(lambda x: x*2, nums)))         # [2, 4, 6, 8]\n",
        "print(list(filter(lambda x: x%2==0, nums)))   # [2, 4]\n",
        "print(reduce(lambda a,b: a+b, nums))          # 10\n",
        "```\n"
      ],
      "metadata": {
        "id": "jk_CI9QB7KxZ"
      }
    },
    {
      "cell_type": "markdown",
      "source": [
        "# Practial Question"
      ],
      "metadata": {
        "id": "FwPr4WNDcJb7"
      }
    },
    {
      "cell_type": "code",
      "source": [
        "# 1. Write a Python function that takes a list of numbers as input and returns the sum of all even numbers in the list.\n",
        "def sum_even(numbers):\n",
        "    return sum(num for num in numbers if num % 2 == 0)\n",
        "\n",
        "print(sum_even([1, 2, 3, 4, 5, 6]))  # 12"
      ],
      "metadata": {
        "colab": {
          "base_uri": "https://localhost:8080/"
        },
        "id": "pFEPApkDRQ6Q",
        "outputId": "29a8fa58-0161-49ec-d62f-19afeba9a5d1"
      },
      "execution_count": 1,
      "outputs": [
        {
          "output_type": "stream",
          "name": "stdout",
          "text": [
            "12\n"
          ]
        }
      ]
    },
    {
      "cell_type": "code",
      "source": [
        "# 2. Create a Python function that accepts a string and returns the reverse of that string.\n",
        "def reverse_string(s):\n",
        "    return s[::-1]\n",
        "\n",
        "print(\"2.\", reverse_string(\"hello\"))  # \"olleh\""
      ],
      "metadata": {
        "id": "s0reT5wnRi5u"
      },
      "execution_count": null,
      "outputs": []
    },
    {
      "cell_type": "code",
      "source": [
        "# 3. Implement a Python function that takes a list of integers and returns a new list containing the squares of each number.\n",
        "def squares(lst):\n",
        "    return [x**2 for x in lst]\n",
        "\n",
        "print(\"3.\", squares([1, 2, 3, 4]))  # [1, 4, 9, 16]"
      ],
      "metadata": {
        "id": "H1Woi_f4Rold"
      },
      "execution_count": null,
      "outputs": []
    },
    {
      "cell_type": "code",
      "source": [
        "# 4. Write a Python function that checks if a given number is prime or not from 1 to 200.\n",
        "def is_prime(n):\n",
        "    if n < 2:\n",
        "        return False\n",
        "    for i in range(2, int(n**0.5) + 1):\n",
        "        if n % i == 0:\n",
        "            return False\n",
        "    return True\n",
        "\n",
        "primes = [x for x in range(1, 201) if is_prime(x)]\n",
        "print(\"4.\", primes)"
      ],
      "metadata": {
        "id": "Ewf0cx1ZRrBW"
      },
      "execution_count": null,
      "outputs": []
    },
    {
      "cell_type": "code",
      "source": [
        "# 5. Create an iterator class in Python that generates the Fibonacci sequence up to a specified number of terms.\n",
        "class Fibonacci:\n",
        "    def __init__(self, terms):\n",
        "        self.terms = terms\n",
        "        self.count = 0\n",
        "        self.a, self.b = 0, 1\n",
        "\n",
        "    def __iter__(self):\n",
        "        return self\n",
        "\n",
        "    def __next__(self):\n",
        "        if self.count >= self.terms:\n",
        "            raise StopIteration\n",
        "        value = self.a\n",
        "        self.a, self.b = self.b, self.a + self.b\n",
        "        self.count += 1\n",
        "        return value\n",
        "\n",
        "print(\"5.\", list(Fibonacci(10)))"
      ],
      "metadata": {
        "id": "0_nt1uPTRtou"
      },
      "execution_count": null,
      "outputs": []
    },
    {
      "cell_type": "code",
      "source": [
        "# 6. Write a generator function in Python that yields the powers of 2 up to a given exponent.\n",
        "def powers_of_two(max_exponent):\n",
        "    for exp in range(max_exponent + 1):\n",
        "        yield 2 ** exp\n",
        "\n",
        "print(\"6.\", list(powers_of_two(5)))  # [1, 2, 4, 8, 16, 32]\n"
      ],
      "metadata": {
        "id": "0JEGmlvxRv_u"
      },
      "execution_count": null,
      "outputs": []
    },
    {
      "cell_type": "code",
      "source": [
        "# 7. Implement a generator function that reads a file line by line and yields each line as a string.\n",
        "def read_lines(filename):\n",
        "    with open(filename, 'r') as f:\n",
        "        for line in f:\n",
        "            yield line.rstrip('\\n')"
      ],
      "metadata": {
        "id": "u_msxOI_RyY9"
      },
      "execution_count": null,
      "outputs": []
    },
    {
      "cell_type": "code",
      "source": [
        "# 8. Use a lambda function in Python to sort a list of tuples based on the second element of each tuple.\n",
        "data = [(1, 3), (2, 1), (5, 2)]\n",
        "sorted_data = sorted(data, key=lambda x: x[1])\n",
        "print(\"8.\", sorted_data)  # [(2, 1), (5, 2), (1, 3)]"
      ],
      "metadata": {
        "id": "vm5ZVIF4RzvO"
      },
      "execution_count": null,
      "outputs": []
    },
    {
      "cell_type": "code",
      "source": [
        "# 9. Write a Python program that uses map() to convert a list of temperatures from Celsius to Fahrenheit.\n",
        "celsius = [0, 20, 37, 100]\n",
        "fahrenheit = list(map(lambda c: (c * 9/5) + 32, celsius))\n",
        "print(\"9.\", fahrenheit)  # [32.0, 68.0, 98.6, 212.0]"
      ],
      "metadata": {
        "id": "KF0WsVyoSErn"
      },
      "execution_count": null,
      "outputs": []
    },
    {
      "cell_type": "code",
      "source": [
        "# 10. Create a Python program that uses filter() to remove all the vowels from a given string.\n",
        "def remove_vowels(text):\n",
        "    return ''.join(filter(lambda ch: ch.lower() not in 'aeiou', text))\n",
        "\n",
        "print(\"10.\", remove_vowels(\"Hello World\"))  # \"Hll Wrld\""
      ],
      "metadata": {
        "id": "-sAc8AC0SGpo"
      },
      "execution_count": null,
      "outputs": []
    }
  ]
}
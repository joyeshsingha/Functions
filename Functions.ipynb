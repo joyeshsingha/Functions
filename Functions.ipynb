{
  "nbformat": 4,
  "nbformat_minor": 0,
  "metadata": {
    "colab": {
      "provenance": []
    },
    "kernelspec": {
      "name": "python3",
      "display_name": "Python 3"
    },
    "language_info": {
      "name": "python"
    }
  },
  "cells": [
    {
      "cell_type": "markdown",
      "source": [
        "# Theory Question"
      ],
      "metadata": {
        "id": "u1ntYaNs8xUh"
      }
    },
    {
      "cell_type": "markdown",
      "source": [
        "**1. What is the difference between a function and a method in Python?**  \n",
        "A function is a block of code that performs a task and is defined using `def` at the top level of a module.  \n",
        "A method is a function that belongs to an object (it is defined inside a class and called on an instance).\n",
        "\n",
        "Example:\n",
        "```python\n",
        "def greet():        # function\n",
        "    return \"Hello\"\n",
        "\n",
        "class Person:\n",
        "    def speak(self):  # method\n",
        "        return \"Hi\"\n",
        "\n",
        "print(greet())\n",
        "p = Person()\n",
        "print(p.speak())\n",
        "```\n",
        "\n",
        "---\n",
        "\n",
        "**2. Explain the concept of function arguments and parameters in Python.**  \n",
        "Parameters are the names listed in the function definition.  \n",
        "Arguments are the actual values you pass when calling the function.\n",
        "\n",
        "Example:\n",
        "```python\n",
        "def add(a, b):  # a and b are parameters\n",
        "    return a + b\n",
        "\n",
        "print(add(2, 3))  # 2 and 3 are arguments\n",
        "```\n",
        "\n",
        "---\n",
        "\n",
        "**3. What are the different ways to define and call a function in Python?**\n",
        "- Using def  \n",
        "- Using lambda (anonymous function)  \n",
        "- Calling with positional or keyword arguments  \n",
        "\n",
        "Example:\n",
        "```python\n",
        "def square(x):   # def\n",
        "    return x * x\n",
        "\n",
        "double = lambda y: y * 2  # lambda\n",
        "\n",
        "print(square(4))\n",
        "print(double(5))\n",
        "print(square(x=6))  # keyword argument\n",
        "```\n",
        "\n",
        "---\n",
        "\n",
        "**4. What is the purpose of the return statement in a Python function?**  \n",
        "return sends a value back to the caller and ends the function.\n",
        "\n",
        "Example:\n",
        "```python\n",
        "def multiply(a, b):\n",
        "    return a * b\n",
        "\n",
        "result = multiply(3, 4)\n",
        "print(result)\n",
        "```\n",
        "\n",
        "---\n",
        "\n",
        "**5. What are iterators in Python and how do they differ from iterables?**  \n",
        "- Iterable: An object you can loop over (e.g., list, string, tuple).  \n",
        "- Iterator: An object with __next__() that returns items one by one.\n",
        "\n",
        "Example:\n",
        "```python\n",
        "nums = [1, 2, 3]       # iterable\n",
        "it = iter(nums)        # iterator\n",
        "print(next(it))\n",
        "print(next(it))\n",
        "```\n",
        "\n",
        "---\n",
        "\n",
        "**6. Explain the concept of generators in Python and how they are defined.**  \n",
        "Generators are special functions that yield items one at a time using `yield`, creating an iterator without storing all items in memory.\n",
        "\n",
        "Example:\n",
        "```python\n",
        "def count_up_to(n):\n",
        "    i = 1\n",
        "    while i <= n:\n",
        "        yield i\n",
        "        i += 1\n",
        "\n",
        "for num in count_up_to(3):\n",
        "    print(num)\n",
        "```\n",
        "\n",
        "---\n",
        "\n",
        "**7. What are the advantages of using generators over regular functions?**  \n",
        "- Memory efficient (values produced on the fly)  \n",
        "- Suitable for large data streams  \n",
        "\n",
        "Example: (same as above generator example)\n",
        "\n",
        "---\n",
        "\n",
        "**8. What is a lambda function in Python and when is it typically used?**  \n",
        "A small anonymous function defined with `lambda`, used for short, throw-away functions.\n",
        "\n",
        "Example:\n",
        "```python\n",
        "add = lambda x, y: x + y\n",
        "print(add(5, 7))\n",
        "```\n",
        "\n",
        "---\n",
        "\n",
        "**9. Explain the purpose and usage of the `map()` function in Python.**  \n",
        "map(function, iterable) applies a function to every item in an iterable.\n",
        "\n",
        "Example:\n",
        "```python\n",
        "nums = [1, 2, 3]\n",
        "squared = list(map(lambda x: x**2, nums))\n",
        "print(squared)\n",
        "```\n",
        "\n",
        "---\n",
        "\n",
        "**10. What is the difference between map(), reduce(), and filter() functions in Python?**  \n",
        "- **map()**: Applies a function to each element and returns a new iterable.  \n",
        "- **filter()**: Returns elements for which the function is True.  \n",
        "- **reduce()**: Reduces an iterable to a single value by repeatedly applying a function.\n",
        "\n",
        "Example:\n",
        "```python\n",
        "from functools import reduce\n",
        "\n",
        "nums = [1, 2, 3, 4]\n",
        "\n",
        "print(list(map(lambda x: x*2, nums)))         # [2, 4, 6, 8]\n",
        "print(list(filter(lambda x: x%2==0, nums)))   # [2, 4]\n",
        "print(reduce(lambda a,b: a+b, nums))          # 10\n",
        "```\n",
        "**11.Using pen & Paper write the internal mechanism for sum operation using  reduce function on this given list:[47,11,42,13];**\n",
        "![WhatsApp Image 2025-09-24 at 20.44.07.jpeg](data:image/jpeg;base64,/9j/4AAQSkZJRgABAQEAYABgAAD/2wBDAAMCAgMCAgMDAwMEAwMEBQgFBQQEBQoHBwYIDAoMDAsKCwsNDhIQDQ4RDgsLEBYQERMUFRUVDA8XGBYUGBIUFRT/2wBDAQMEBAUEBQkFBQkUDQsNFBQUFBQUFBQUFBQUFBQUFBQUFBQUFBQUFBQUFBQUFBQUFBQUFBQUFBQUFBQUFBQUFBT/wAARCAELAY0DASIAAhEBAxEB/8QAHwAAAQUBAQEBAQEAAAAAAAAAAAECAwQFBgcICQoL/8QAtRAAAgEDAwIEAwUFBAQAAAF9AQIDAAQRBRIhMUEGE1FhByJxFDKBkaEII0KxwRVS0fAkM2JyggkKFhcYGRolJicoKSo0NTY3ODk6Q0RFRkdISUpTVFVWV1hZWmNkZWZnaGlqc3R1dnd4eXqDhIWGh4iJipKTlJWWl5iZmqKjpKWmp6ipqrKztLW2t7i5usLDxMXGx8jJytLT1NXW19jZ2uHi4+Tl5ufo6erx8vP09fb3+Pn6/8QAHwEAAwEBAQEBAQEBAQAAAAAAAAECAwQFBgcICQoL/8QAtREAAgECBAQDBAcFBAQAAQJ3AAECAxEEBSExBhJBUQdhcRMiMoEIFEKRobHBCSMzUvAVYnLRChYkNOEl8RcYGRomJygpKjU2Nzg5OkNERUZHSElKU1RVVldYWVpjZGVmZ2hpanN0dXZ3eHl6goOEhYaHiImKkpOUlZaXmJmaoqOkpaanqKmqsrO0tba3uLm6wsPExcbHyMnK0tPU1dbX2Nna4uPk5ebn6Onq8vP09fb3+Pn6/9oADAMBAAIRAxEAPwD6bf8AZ3+FBYgfDXwdn28P2v8A8bpjfs5/Cpevwz8H/wDggtP/AI3XpU8QjfkYNHG0g9azbfczSPMD+zz8Kt3Hw08Idh/yAbXr/wB8CnN+zr8KMjf8NPCAJ6A6Fbg/+g16QzNGuUVe+Sc8HjHGMeteb638aE0j4kT+Brbwl4hvtTOmS6nazWyRLDdiNkVlVmlXDAuMgjowP0abHYJf2aPhRLHtPw38Lx5BP7nSo4xx/u4Gf1rO/wCGTfhJLnzPh/oW1hkYsyuf1rvPBfiXXtbnu11nwle+FY4doga4vLe4aRyzb0YRuwUgY646iuoRVK/KpQcnbjBPPpT17jueFXX7GfwbvPlb4e6YOOsbSx/oARXJar+wR8Gbu4LxeDlg7FYr+5T8cAgV9SGPIYYOVIBOemegP51UbZ947QME5JI6cn/9VLUEz5a/4d7/AAd2lh4cuosnouoTH/0PJ/pU6/8ABPH4RSwGGLSr6Nj83F0p/mQa+jfEniHSfB+ltqOt38Om2CyxwtNctwHeRY0H0Luoz059jWraajZf2sumi9tf7Q8o3AtvOAkaPcE3gd13MBn3pNX6lcx8wD/gnR8IgiqbfUQcdrhB/Wnp/wAE4vhGDkR6n9POjP8AWvq6QKYvMyfm+YZb/wCtTYgWwSM+h4OR9aXL5j52fLDf8E4PhU43INWjUYB2tARn3JRv5/hQP+CbHwscbvtOtIOg2/ZCD75MBr6Q8ceONK+HugtquqebLulS1tbK1QNPeXEmRHFEv8THB/Krfg7xhpfjbR3vdN89Wgma2u7G6iMdzZTpt3wyx9VcblOO6spGQQaOXzDnZ8yp/wAE1vhYZf8AX6zJ7sLP/wCR6vJ/wTf+EqKoaHUpjn7ztbA9uOIMd6+rEj2uw24cE/L1NWobUh9wUbdyls9PlJILf7OQeRRy+Yc7Pl6z/wCCdHwRhGbnQpr6QNjfNcBSvOMYRFGMg9R364xWtF/wT1+A5UM3gpZPQtdyDP5V3vw8+Ny+Jv2bovifqmmvaTw6Peahe6bZ4MiPbLIsoXPXPlE8+2Ooz6fpd6mqaba36Qz28d3Es6xXK7ZFyASpHTcM9BRy+YuZnzs3/BPj4BqwZvh9BKMY3NfTj8OBU9r/AME/vgHGSR8OrXABY7ry4I6Z9PY19GGIudgUs391ck9cdBVHUxdJpd5LYLHLdxwS+SjfMGfpg8/X6/jTs+4rnh8X7CnwKtxiP4c6UFz0klnY5+pFSH9in4JQt+7+G+ilR1yjtz+Ndd+zh8QNS+KnwK8IeJ9ZjWDWbuCWK/jjXaFuIZ5IJBg9MNER+GRwQa9DZMHJcjcTjJx0x/jT1XUVzxZf2P8A4LJbvH/wrPQSoyxYwMSOnvUa/sV/BSJju+G2iE5OQYn4wcdz7V1PxJ8Q6zovjf4VWmn6ilnYa54hn03UIZIdzTwjTL2fg9gGgHSvS5WVSTkRqoGRkADge/8APmq17geKRfsZ/Bbgr8M9CwcjmBj0/Gri/shfBi0Bz8MPDGMf8ttNSU9PVwT+H/162Pi14/1T4eeK/hlELRZdC17xGmhao0iHfF58Mn2dl7jMqqM/7VelzoYwu4IZO6IRx7jn5vwzRr3JueSr+yv8HYkAj+FnhArjPzaHasf/AB5M00/swfB3PPwu8Hg4Jx/YVt0GM9EHrXrTdQeCpHDDo3vVaRFBL9sqpypIIJ9vT+tLXuVc8zT9lv4PBS3/AAq3wY4Gef7EtT0z/sH0NSp+zF8HgOfhT4LHt/YNof8A2nU3gjWvHMnxf+JNh4isVj8EW66bP4autqgOHtiLqMgHJw4J5GefSvSVCsjOGUxg4Mufl7/xdOxGfaq17geaH9mj4PgcfCnwSB7+HbRv/adRf8M0fCE5I+FnglR/2L1oo/8ARdeo7AY85GDyCTgEZxkeoz36Vy/jjx/ofw20e31XXbuWCCadYLeO2tpLmaaRgcCOKNWZiQD2xUu/cVjlx+zL8IiP+SV+C8EZB/4R+0xj1/1dNn/Zd+EjEg/CzwYpHH/IAtB/7TrhdI+NcXif9qTQ9Ps4fFdroL+ErqR7PUNGu7NZ5nvLZUlMc0SN93cNwG3jGc5r6Kk3AnONxO44XHXn+uKevcDwnxT+xd8HfE9rFHL4B8PaeI3350/T0ty3sRGFU/U8/pVmy/ZL+EenqoT4ceFZ1UY3XGlRzMfqzgn8uP1r2dmxgEZJyQO5wMmkZB5eeFBOAWOAT6DPX3x070a9wPMF/Zr+EaoC3wq8E4HGT4dtW9T1Ke1Sv+zP8IxwfhV4IB9/Dln/APEVJ+0R4n1zwL8DPHPiDw4VTXNM0ma9tWZdw/dDfICP90HFdV4F8VReO/h74Z8SQ4ji1nS7XUggOWHnQrL0PP8AEfpxVW8wOM/4Zp+EYOf+FV+Cseo8N2eP/QKk/wCGavhGV4+FXgkj1Phuz/8AiK7zU9b0zR3so9S1C2sZL2QQWizyhGnkI3bUHc4xn0yM4yKkm1K1GrxaXJdWq6qVLLZyTBZio5yEznoc+tO3mB5w37N3wkJOz4W+CgBwdvh2zHP/AH7ph/Zq+ErjP/Cr/BY/7l60/wDjdemkhwWTGPbiod3y8UrvuB5lJ+zR8JAcH4X+DCfbw/aD/wBp1Ef2Z/hIOvwy8IL7LoNqB+iCvTyQRnvUEm6p17gea/8ADMfwhlHPww8JOfX+w7cfyWopf2YPhDGhj/4Vp4YTPP7vSo0H5Lj+Velbip5z+dDnzOn86evcDyOX9k/4Oyklvhv4fY+sdoVH5A1n3P7IfwXlkAb4daMrY/hjdBXsx+Xkn8M1DJPuPtUu/chtnilz+xl8FJE2P8PNKye6tJj9KpxfsLfAyVT5nw50yU5zuS5mU/Q/59a9xeYDgZGafBJ5QO5uvTNQ20y09CS+iO9Tjiqr4Bq5dvu2+lVZRk8c0MS2InzjoG9iTXh3xQj18/tE/CmHQdWsdLvbrS9dhFxqFi12mAtozDaHXHA4+le6bfWvPfFXw1v9c+Mnw98Z22oJDa+HYtSgubJ1JMy3McajB9fk/SqRRCvxOn8G65ZeENUhvfGvjGe1fUDFoNglpH5DSFFkd55dgAYMPvhuny9CZLH9o/wVJYa3NcXV/YDS7Fr+4/tCwkQSwqdrmArxIVbIO3JPbOK1U+Gduvxhh8fNdy/aT4dbw9LYqAEMX2lZlfdg/OMyD6Yridb/AGbl1fQ9U0J/EtwdFfTNUsdLt3gTzLF70bmcuv3lR1XHf5jxTEbFh+054L1PVNN0crq+mardTJaS2d/YPmykkx9m81+RiVmXa2cc4JGDj05sM/zB41+6cgE4wQc9vyryO2/Zrglu/Ed/f+Jrm71TxB/wjclxcSR8RTaU6EMvGcSAHj2PrXsM0EwYln37sSHPckZIP45pAfLf7T03xF1H4SeLYNatPC+n6FJrOnxWTwmeSeSI6lbeW7gEKDnOR1xXSeMNQ8XeHP2j/BC2EOkeJfE194U1K3millaziWKO5snRt2WP8Lge+a9P+K3w5s/ir4D1Pw1eSPZx3hhk863+8jRTJKuM+6CotR+EOj6j8XPDHxAS7uLfXdFsbnTBsYFLiBz8oZT/AN9fjQMxNM/as8C36eBorqW6t9S8T2ttcraWtrLcx2ZmyqiWTbhAXVwD971AGCfYGZoppPMXABPzFMFgO/8AtH3FfO+gfsqS+A9T0HV/C2qaMLuzs7e3uB4m0Iagvmxc+fbOskckMmDt4O35B6mvZvB/hzVdEjupdY8QXOvahdsrtPLEsMUfciOJCcd+XZm9WIwAxHk/7S3jjw5o/if4WK2t20mr6R44064n0uGQTTKkkcsCloRknLTqPr9DjtfF3xz8PeALjxsy6NOjaRFpOq3pmt2hW7hu5mskmAIDF/3SZJ9B6Vo/ET4Xf8JFptiNAtLTTdQ/4SPStZurjARphb3cbyM7LySY16f7I7074ifA3w98UPEmja3rCXFreae8ImFnOVW8hSTzFhlyCWjRxuA9XNIqxU8LftIeHvGXj6Xw3pWm6ibGDUrnRI9ZljRYJNQt4ftEtv5ZBYgRIGEnRiWGTiszw3oWgftAapqfibULDxHbaLa30uk6cTr88NlqEcErQtP5MMipuMkbLtZd3ygngirnhb4EWnh7xHfaqNUYh/GcvjK1t47fCxyTaWbF4G5OQpd3z3/LPT6J8FvB3h7xNca7p+ky21zJO1yYo76b7IsxO9pEtS6xqzPyT70BY+ffgja6B8NfhH8O10/wXpOo3PifxvqnhPULqZT5sVpLqGpoGJOTx5MS4I716f4X+OXim88dQW+s+HrGy8Ia5r+o+HdFvrS4Ml3Hc2omUPdRnpE3kTHcv3dqhsbk3dj4R+EGm+HfBdn4fvJ21S3sNdudctpCvlsJJb+W7HAz8ymX1xitDTvhJ4T0jxle+KINFhOsXbvJJIXZ4ldz++khiYgRvL/E3Xrx6gWPD/hz8WPGeoeJdM1nxJqMgt9T8W3ngrUPDFtHELW1a3tppIJ4WZSxYtbHcc4IuF/umk+Bfxg13xN8XfC39o+Lb7V7TxbpF/qEuhXVgsNvpt3HPby29tFLtTJWB2UjnmNjn5hn6Um0iyuby2uJbO2a4t7g3cVx5a745ju/eg7eWwxXPoahvfD+mX8umSXOn2k9xp8vn2crQKfs0mNuVyO6tz/uCqUrCZ5l+yzqMNz4F8V6XAG26J428Q2HzDHH9pTzLj22zLXU/ELwl4w8T6jpjeHPHl14P0yFJRqFvY6bbXE93uA2bJJgwTaQScjFaXgr4f6f4Bu/FE2myTMviHV5NbuI5WBEc8kMUcgQADCkw7serGukJIYEd+KT1BI+YvjH8MtS0XxB8MLnUPHvi7xHE/i+3gmEt3bW5iEtndxeZGILePaxMgXkd/vHHHHaB8TviJ4CvNd1HQ/FOo+J7BVubnVrXxLbNfQ+HCmp28UP7yMLLIfIa4d0VyAqg7ctz9aeK/CGneL4dOi1JJZYdPvY9SgWKZk2zxZKk4Iz1raWMA7mGZHJd2HG8nPOMfe5xng8cnpRcD5t8e/EaP4lfs2aP45t7aKPUNP8UaRdWy2rmSCaS21uCJpYD1eJ1DuCSSAzDJxWzprlPihpMPxX0bXrXxNf6pOnhue31FTpH7oM6rBBFcE5MY3lpIc/NjJwAPeCiMiqQkiKyuU5w7KDg7geSCq88dvQ1yvhf4VeGfCmt3Gt2thJc63MpiOq395Ld3EaMDlEeTLIoB+4DtyxOOSSXFY7OZCHbIwxOSPc8+38hXC/GrUNZ0T4P+ONS0KUw63ZaJe3OnssYdvtCW8jRYycHLhBz656A13CLsRRtCA5IUADGTnoOB+FQ31rHeWtxbSp5kNxE0MsZ6OpIBB/4DuHHrQB8q/Hr42/Em01qF/A+q2+naXD8P7zxpBLcWSyLqtxGyCWBww+XZFKkiBe7HOBiuW8cfFH4hiTwfp9r8S5bPTYvEGkM3jI2UEM95pWrQHy2uI3Ah8xJUkXauTt8vIyTX1lpfw+0HTdO02xGl209vpdi2lWpuEErpbFURlBYfdZYk3A9a81/aG8H6PaeB/DptdJtI5IPFnhkRw28IVdkeqQR4IAxtCStgEcc0XA8U1X47+Phb6tqV/4r1uw1eyt1/4RKC10yJbXxTKl5dxl5j5BCtJHDANgYYADYGefavGvhvxve/H3wzHZ6trsfgbXrFpNXitURo7G5tFVohG5AMXmhyDwD8vPavb40RFURpGkRCsFHoQCdvGF6noB060jAPsOTvGDlgeT/tfMeKtMDy2+0afTf2n/AAvq1qshtLnwbrFi7DdIIZI7mwkhDMerMJJP++TXqr7SWK/dJ4461IjlXWTA3J07n16/h+o9KjKAKoUYUKoA9OBxUtgcJ8arbU7z4SeM4dDuriz1s6PdtZSW0hjfzxEzRHIPIDDBHH3+vp4HdfEPx3onwD+HXiT+29Q/tTx1bR6pr3iFUklXTRLCkqwwxKj+Qp3hMsAoMbEkZr6zOUxld3IypAIKnqP0wfrVS2soNPsorK1gjt7WKJbdYol2oI1UKoA9AB0NK4Hx38U/iDqD/AWx8GyeKNQ8SLrGk6pY614tsNDmvSWaB2t7dvLiC5YtsLDONuSQCDWRpfinxN8JfA/hViuqpNrXwe07SNFtrYSMjavEXBUKOIX2TQnccfcIzxX3EJWhVjEfKfHAU4XgELgcgd+AP4qhjG0qEACRNmMSDIHYYx6An07elXcDxXxX4R8VaV8SfAfiS48PSfElNE0V9PfZcQJcWmoO0BN24ndAwIQDCnd8h45BPnvwW8EW3grxBaeJvFHwr8ZXvxVt4imoanPeRSw3Mr8NNGwuSgGNo28cL0r6rMYcknkj7pkJbj060ZzGqEuIwchdxOD+dFwMrRNSvdVtBNe6Tc6I79La5eN2x2P7tmGD7nPWrcx2YHTip5PvEqM1VuGJxkYNIBqMWfHaonclj7Uu0hciowMUAIxJOaYX2gmlkJFV3k4oAjaViTmopGweKRn+aopctzUsoSWTPTrUTyFgAWwR2pjHB9aQAuTis5bhY6B4Q5GfSq7R7SfSrLqWbIqBlKgg9etMlaEXy88/nSqAwUjOCcZx3zj+lN+VCHYlVU4JwCOo5/AAmvKb/wDaT8K6D478R+GdSsNYW78NywRajdQWDzwwxTQo6XDsgPyli4wMkbDmqA9Z8na5G84J6dqlWONY9xwOp47jGc1l3/ifTbK91O1juHutSsrKLUWtoIw0jwOXWKWMHAZWaJ1yMgd64K4/aW+HttY6ZcSaxLC+q6ba6vZ2X2SRrqe1uEcq6oFOfL2PuA5GOQKAPWHQtGPkIGcZxwfxp6pyqEgFhwD1P0rzf4bftCeF/ireXsGiw6jbSQQy3Vrd3dmETU7ZHdZJbUk4O1kKkHBBbpjFN+DXxj1H4vo+pL4N1Dw94ZuLb7Rpur3l7E5um3shjeNGYxsNgBDAH2oA78weWW3nAJ4J4qRIwASB8w6Ej+tY/i3xx4X8CiB9f8Q6VoMc2REb69S3LsByq7zub6Yq/wCHNb0/xLpEOoaZdRXtrL0miOQx+v0xQBoQghsBgP8AePGOPy5NWo4SGEigt8uSQMgDI/xH515L8QLO4174zeBNE/tbVdP0yTSNYvbuHTNRltfN8qXT1UtsIzjzT781oa3oel/BXw/4n8ai68Qa5c6bYzzR2Gq+ILq6jl27QsYRmPzMyqAO+eBwaZVj1qKHBGB1GajeMl1IGR1HvXm3g39ovwxrXwv8GeLNe1O30C/8Rael0umMxknDgASxxxqDIxRsqVCnkHGecdP8OfiZovxPs9bu9EjvFj0rU5NLlN9aPatLIscbl1jcBgv7wD5gDlW4pDOm2fxEFT1wKegbIO4jPQHGeoHf6ihSpxyGMiso54Gcc/lu/KvGNb+O97B8Nr/xdb2ttph0bxonh3VY5T5m23XVxZyycZxiFw/4CgD29eAGA5I68U10A+bBwepxxmrMkYiPlhRGRwQxAwenX8Kg8pssFBZsfdCbju42gj8aYEZQnJVS2OyjJ7np+Bp/lFQQy4KsQT2H4/ga+Yfjx+0Rq+i3cl94Q8Qabp/hnwZrNl/wktxOY2l1EG5ijubaBOSPLjmLF+nYZIr0bWvHfj7QvHGiW95oWh2fh7UtefRrXTvMaW8ubZQ7G580MqRhAmSpHcYJLAUhHqiYIwDuwO1AGc4weg69MnA/Mmn7t+7l5DHnLZJG0EngEA+vGOxryj9qTTtTv/gF45bSbySz1exsH1WwmtnKMZbUidVyOzbCvp82elAz1ULtwrDntzyCOenUk+nXiuB8SfFV9H8VTeG9L8J+IvFeowW4uZWsrVYbMAsGVWuJii5wpwFJ6j1rkP2ifA8nxq+HkNx4P0u28R6lq1tF/ZsupXki2FhbzxOwvng3DewjbaCRnLDPSul+Bmq3Fhp+peAbqC1+3eCWtNOjuNNkdrW4i8mOSNsN91127Wj5xkHucBLudZ8NvGNr8SPBWl+IrGKW2hvFkD20+PMgmjkeOaJscEpKki5GQduQSK6FIzG5zz7V5d+zu1xZRfEzRJvuaP421BLfC7f3d0sOoAAfW9YYHpXqnJJoERSZLgjkUpUODk45604DbnPFI3PSgqxGBjp0qC4tYroRpPAk6JKkyrIoIDo6yI31DotWkGBzSlQTQISJQiBS+/bxnGOB0ofGevNIUyeKXy9vWncQwEmjJFOIxRgGgZGxyaQYqQqKjbGeKdhDXANR4xUjUgAIzRcZGelRnrUr47VC3Q0wSGSPtOKqzZYipXJJ5pjCgCJiQoFRLk59jVglSuCM89argCMN7nNAhkvyjmqb8nirEr7lOar+ppXKsVpOPrUHmfKQanlHWqjsBmkMid+akt3B3GoHIxSRluQorOW5VjrBSNHk5PSnbsLikVtoI655pXMblOWJSxOT6EDqRz68d68W0HwlKv7Q/wAWl1DSg2g+KND0iP7QFLQzhGvYXRyRjcBIrY9h6ivcZYhOcDjioQFRirEhcYPPX2A9aq4z56074Q+NrT4eeENR0KaCw8cadoM/hm8j1F1WO8sm3In7yNSQYiDIue7nmuosPgM2leJPgrqdtfwSp8PLK40+6Z4jm8hlshbFkwAScoz4YD71ezkMNxLAFOx4I6Dmn28bhwq8srYx3GeOn0zTuB4h8Pf2e7r4eaR8P7e21hZ9U8FXWrx21y6O0c9tdyyy7HAdSPn+zngkfKeOtdN8K/g5eeA/FuteJ77XUurrWIwtzpOj2wstNa4/juDEWJMjnkv1wFGPlr0dGBQe3UdwepH15qZBxkkDA3YI6dP8RRcDkvHvw+Tx2+mK2uarpBsHaQjTHhUvkAbS7xMwHH8J/CtzQdCh8O6XHZwXF3covPmXt29w5PsznOPbgdeOa15I3RWfau3+Ljp1/wADSi3UKxGMIMnH1xn8/wCVMDxL4neMtE+Hvx3+HereI9TtNG0e70TXNMa+vplhhjmd7CVAzMQBlYZP++PUjMfifxDL8cvGWgWPgrxfoOoeEdJaTVtXFpG959qkjH7pRIrCJQrENtZs89MYr2e9s7fUY1jmjimVTuVZArYbaRkZBxVuyt4Ug2JEiICwCKowAT64H+T0pXLPFvhR4Z8VWOk6/wCHbaWystS0LxjqKpqWq6W08RsrpzdrNZASKinN0idD90g/dwNz4M6Rrnw98JfEO/1lrzUdQfXtU1RZJ4kikuUCqI2HQDIhYcnHzda9WcCRleRd+ePm5bjgZPGfWm6hYW2qWNzZXe2S2uENv5QcjcGwGOfoP/HqYFLwp4ktvGfg7RvEVkHjs9X0+G/SGYbZUSSLeq+xBYCvGT8HNS1LwD+0R4MWAJ/wk2pX99o1xPjY8t1YWrB+vG26icZOOeenNe76fpdvo9lb2FnCLe0s40gt4RgrHGihVX8hVtIz8qjKrjGSckDr/MmgTOT+IGva94e+EXiHV7WzWXxPZaFc3EEcKGYG7SA7AqjP3nC9eBjrW/o0t/qHh3TJtbijj1ea3gmvYYUGxZtgY7c9OSeD71ohWdSCTgjYSDgYIIOfUe3vUj8qzufvEnc3sBnn8aYI8j+IfwM0TVfhP468OeG/D2madqOvadfrDJDbxxA3k0R2uzAd3CZPXI9BV2X4NaN408R+H/Gvi6G4vfElhpsVsttJOxsreYhjM6xqcsxZsFu6qo7V6QqF2BG09cHdx+fSnKoTGBt496Qzh/FGgatqfxR8E6xbyyx6HpMGoSXUaSbfMuHWJYMqDyozOQO3fGRXW31lb31rPZ3UYuLa4iMEiuvEkZG1gw7ArlePWrj7T0yPpTQdwyecce9AHGXfwk8Maj4S0Hw7LZyQaVoMMdtpos7ya2ns40jWP5ZoyHAKoufoPes218QfDb4JaWdPh1jS9GSWVp5LdJ/tF7cSEYaTYC000jAAZO5iR6AV6JJBvDIUDBsKwwGzkgY5471n6Z4W0bSZnnsdJsbSZ2LvJDbqhZum4EDg8dQM8CgOax5v8AJdU1bXPiZ4qfRNQ0Dw94l1mHUdHttUh8m4YJp9pbNL5ZO5FLW5ADhW4Jxggn105GMHPA598c0oYlGLHPzfeJJJ/E8n8cUBN4znA6ZPSgkaSfSkzmnjhARyCMg0i4PXjr+lAXGgn0zQfypcjJA4IGSDwaQ8nA5NA7AOtOZSTkUittTcQQvqR74qXO8ZHP05zQLYhx601utSLtbPI4OM54zQqeYAUBYeoHHXFAEJHFNVeOalYdMd+lRg5woySc8AZ6U7jsMcZ6UzBVealVTg8HAGSewppUyHCAucZ+UZ4/CgLEB6VG3QnoMgZPFStGwG4ggc9vTOf5GuV8eaJ4i1pbK30XxJL4Vi3P8Aa7m1sYbi6dQBtEfnhoxyTzt9eewdxm66sRuCkrzyB6dajbofauA8I+I9f0Tx1ceBfFV6muySWB1LR9bWD7PJcQpIsc0MyKdvnIXRjtChlkXaDtYjvJcAkrwvYUxWGO+KgY7hT2befeoiQBzQFiJyAKrscZqaQ5qu7Bc5qWC1diKRuOaquM5qeUgoD71VkbrSLsQykKMUkUqqTk44FJJluaqyOFIycUrXGd2eT6U3ABp5xnimEEtWZzsZIpVtw9K8i/aBPjLS9Ck8UeG/F8HhbT/DmnXuqX1vLYi4XUTGiskEhyCqHB5Xnr7V7BJ93FZ9/pdrrNje2F9BHc2V5C1tcQSLuEsTAhlI6Y5qijxXTv2htX8O/s7WHxR8SRWGqSarb20tlpOhwvHHG9wVWONmZmOzLElyQBnHBBr1Hwx4m1jU/hxHrWueHI7XXfssk8mi6fdJdK7KWCC3djtYlQp6nkmrtl4A8Paf4OtvCsWkWh8MQxRWw02eFZ4FjVgQGRlxxg4warX/AMPdIvPDEXh+2guPD9jG4ljj0K5k05oWHo0RGAeO2ffpTA5H4UfHHUPiZ4im0y+8OR+H2jtPP+x3l/INSjUMsZaS1lt0GwMy/vIyycn5vlOOr034peFtc0Xw5qllq0N5pXiW4FlpdzDExW5lMcrYVWAIGIW5OBx7jMPhP4SaL4U1x9ZS51bUdUaB7NbrVtTuL5oo5CCyp5zEc7Rkn0FcJp/7Mv8AZvh3wbpkPi28RfBWox3vhvdZiOO2RdyskqrkvuWSTDAd8cYoAXQviOngr4x/F6LxBfaheaDAdFvdOhitZr8w/aLdwyJGi8f6lj1wM1c/Zh8VyeJJ/ixD9t1nUY7HxhNNZS6tBcBra1e0tWSOMSr8mHZyYwQQGzn5q6rwf4CvfDvxW+IPi2e8insvENvpsdtaLxJb/Zo7kN7AHeCPr7U/4UeFNS8LeIPiXdajbrDDrvimXVrNYpS5MJsrSHLAnAO+CTj0Ap3KsdbYahJe6vrFlNp93p4s5kWG7mZDHeqY0YyIclgNzMuH+bKHsRW3DE9vuMq7OdoVhivK/j5q99ZfDtrWyg8TiTVrmO0efwjHuurdM5Z+eFHPXOa1fhH4cbS4LqfyvFkUjRJGreKdVN2zqON/liQgE0hnoKoGUkAtgbiwGVQereg46nipYm3sFBQ543q21cZwSPUe44/KvCPjR8Grjx18c/hTrMmnS6l4dh/tDTdet0bMc0UkQNssyZHyCTzDlScbjmuB8L+NfiV8L9D8ST634eHhfQv7ZjsNNtFsRdWGiWpkI+2AxytI4cbRsAOCMkDJqroD6E+GHxEf4hS+M7c2P2B/DfiCTRCS+/zgtrbziXPuLjp7V3yrgjJzngY574/nXyJ4d8SeJNOm/aCOjak93rPiLRB4p8K31tYtbtdzLYtbS+XE/BKvaQnnBIlHGATWpqH7SviXW4LyXw/qWnWmh3viTSNB0zxXf2rrEry2iz3cksbABcOpiycAF6Vwa0PqYsoRm3DAyTz2xn+Vcp8QvGz+C7CwjsrJdS13VrxLDTrFmKJLKQx3SNxiNAGJOf4ueory/V/2j9Si/aQPw+FvouleHoIreW6v9Zu0hmvoJ4S6yWYaRchS3l4CnmM8+nV3U8HiX9pW30+4m3JovhQ3tmg5M5vbloJZBjjMS2sJ/wC231ouSmN8VeLfG/gD4K+NPEuvLo2seKNJ0261KCPSoZIYGSKFnVCrkksFUjPQ7Rgevoel6rHrWjafqsYCQ31rFeIgOdqyKHx+G78qi8SaRba9pmpaZesslnewS28yqcsEZCu0j2Vgcf418xQ+PdXtf2X/AIURyeJb/wAFlL1fDHiTWtNtBd3FnJaW93btlNrffuIIxkZzvBHHNFyj6sIyWAwSpwcHOOSP5g/lXnfxx8c6p8OPBNrr2lzW0C2+uaVFqUlxyFspb2COdvbajlj7Gvl9fjR8ZfE2m6L4hsfEE+n31h4M1XUBplxpkam61mxnVJYblCgdDJbSxugyASp25Ndtqvgu/vND8QeEdP1bU/EeieP/AAFfatCdQmkne01eDylSRDJkoji6ixFkYNqeMk5YH1pdQSW5JSA5QHYpPEhIGOemMbuScDIrkPhR8QLf4n/Cnwt40S3Gn22taZFqDQu2FtNyBnV2PA2kkc+lfIvgb4m/EbxH4T8K694b1DxpdeNtStm1DxjY6jpsotIrQFDILJZkCefjIiVC27DbgBgntPA/gPxVrn7MHiD4fW/hu+t2s9Ve90uLUfLtDqmktqX2pbdwoHkuV3xOjYwVPYigln1dY3ltqNhFdWk8N5ZzLviuInDJIP7wYcH0/A1heJviDoHhDTPEFzfalFPJotgdSvbO1cG4SAZ2naexZSoI6nIHSvH/ANnDw14z+Dz+IvCl74GmtPDGo67davpM1jq0M1vpNtOsZFntLB8o6yHhdvzjBrT/AGivgfH8TfEPhW90qNtJ8RrepFc6/bqxP2NFeQQzRj/WxtKV+VhgbiQeuAR7BoGsr4g8O6bqwtp7Fb61ju/sl0u2aDeobY47EZ6e4qt4m8WaV4MsILrWrprO1nvbaxBWLfvlmlWKNGP8ILugz756c1yPjLxZ4v8AC3gDTLyXT7VvFs2rWFlNbaeWnt5UkvYllAyMovlbm56cjPQV1vi7wlpvjbw7daLrMJm0y52O8Idg6Om2RRGysCriRFw4zjb9KAIfBfjvRvH8mtx6TctcSaJq0+iahCybTDcxBDJHjrkLIjZ6HHFHhHxbD40s9TuILPULBLC/udOc6jF5bSyQsFMqDujHofY15N8FPD2lfCf4+fEPwdpM1x/ZmsadaeKUEl1JdFbsTXVneFppCWdiIYC3p6cGvQPh/wDEDxB4w8V+M9M1PwbeeG9O0W8FrZardyDGpjzJPMlRM52bTGQTjJLYzigq5zXxV/aL0z4V6lq+lXej6h/ayWKXelCQeXBrMjl4xawzdPOD7WKHBxg1c/aL+NkfwV+Gep67Bapfa41tJLpmktDLIbiVPnkXdGp+6rO2TjlSD0rN/aI+GE3xTk+H2jnzra3tvEn2+TU7ZAZdNkh0+9eC4j6gDzlhDeuR6Gus8IJ4i1bRbrRvHui2019awmCfULKVHtdRR1CO6gsGRmVpMrgDPftQIytU+Mp1/wCG2qeJPAWj3HinVbXT01CPTrm3nsRcxld58t3RQSUVivODgDqQK565+KbfEDx58D7nwlqb/wBg642p6nfx8+Y8MFr5LQyjAIZJ7hQRjjYPQ13vwq8I3vw6+HWheF7+/h1pdAgWwtLxITEXtkBSFSGJ5CCNSRjBTIJyccT8PtOsdZ/aM8farp1la2uneGrOLSQ1tEqCTUrlhPqEuQBubyvsSljySDjOKAPZJSPtG3epYLu2g9eOSB1POT7ZrgvjR8SIfg58MPEHjO5sG1W20aAXU1rCcOUDgMVb7uQM8E9qpfEvSfFOtfEHwJd+H9NjbTtAu5tVvp5bry/tCNBNCtooB5b96Hyfl+Qc5re+J3gey+KPw+17wtqwK2WsWMtnIRyAXQrv9RgnOPagcPePNbL9rvwjceEL3xHNo2vaXFbWlrqR0++to1up7K5mEKXaYYjYkhwQfmHUgAg1mfG79ojxB4P8B/GG58PeHQniH4fzWyl9XUSR3EE8an7SqofRzx/0z6ciu58TfAvQ/F15osWoEto+n+HNR8NPawKUaeG6+y4YN2KfZsqD0LE96QfAPQW8EeLfDep3upeII/E9q9pqV5qVwrXLxmDy41DKAPk2oB7kmgqx4Pr/AMafih4f8QeL9S1/U7C1sPhlqGiwanaaXa77fXbS9kU3FwSylk2wSRkBehibua73xT4l+ID/ABMisrjWJvh9osGrQxWJudFW90/XLUun+svh8sLuC4CcD5Qc5YivaP8AhEdGTRp9LaxjntZbVbGYTqDJdRINkYkYcthR35+YelcPrHwg8GWVx/bGp3Gr/ZbOVL8W+oeJb17GJ42BT/RzJ5fyjgAKfu0xGT8WSbP4kfByeH5L0+JLxDGWODAdJvmkTPddyRt6EoMZOK9Pddq4ACqvyjBzkD5c/jivLPDel3nxJ+I9n471CJ7Xw7pVvJa+H7eUkyzPMQJ7twQCPkLRqMcYPrXp4OxFVuH2rn64FFwIujZ7VFIu45zUkg29Tio8gDrmi4EDDaDVefpmrTfN0qrcfdNAbFeQ5jqnKpJ3DoKtOflxVWRiOB0qblkEkuR6VSnJJGKtPVWZgpGalMTZ6ERjrSVIVzRsqTAhcHGaSKPualkHybQKYkbIpPbNO5RjeKPHnhrwHbRXPiXWbPRIpmKwy3Uu0uQMkIvVsDrxxx61raZqNrrVnZ3enXEN/aXab7VrV/NE64J3JjlgMHPoRg4rwf48aLP/AML5+BHiCysrfVL+2v8AV7COzvn225MmnvKHPByR9nPBHes74q/s86jY/ArUJNPl1HU/Hehf2tqWkNot5JbJDcXFyZ9ioCAy7QIxkYq0gPeNT8UWdlo+sX8Un9ojTYHllt7ACaVwBny1wfvHGMdaueFtYh8T6FpmrWkNxDFqFulykM64ljDjdtYdsA8+leS+MdK1fwx+zTDqHguwn0nxIljp9+ILdNs7zRyRSS+YMckhXBzzh/asz4u+EvHHiH4y2dno3iPW9G8L3vg+9McOnyFIl1O2mjMRk6YDLclSB1EQpAeuav4ysdC8Z+FvD11HMbjxK1zDYSRAFGmhiMhVvX5BIf8AgPrXU5RVc43MTk4bLPk547H7w/yK+VvEGkXvxS1v9mLxjrWuazZXOrSW8V9Z2NybeBJZdLnd5dudyPvBT3BA9a+pLaEW8MEAmeYwIFSSV9zHjKg8k8BQpx3z60FnP+H/AIl+HPE3irXdB0rVXutW0dit2q28nlgqxVkEuwoSCMY3V11qFClQChJxhiN3X0Hua8N/Z4uNRs/2YND1DQ9NTV/EEunz3j2IlSFp71pHkljeRiMkSb1yT/COxGdD4fftJR+IfhrrfjzVPDl34e8N2DmAxTymae4uo2EMsSx4xgTFkDZySp7YJAPaJAQ7K6hWRgSDkMCMgfzPtTfLYK20Ptxt4HbHTj39yPavPvCfxdj8R/DbWPFl94W1/wALR6Oty1xpuqRKLjbDFu3qisRtfOAW5yp4xg1R+HHxut/iRqkK2lppA0yS2a8WWDW4Lq4hTK7TPABlB+8UEA/LnLYBzUWux2PVF4Y8JIyZwehXoOoClc/Ln1288VHqug6VrWkzWeoafaX2nFTJJb3Nunkkj5t2M4U7xkf4muB8XeO7LUfAXitPDmrxzawnhl9ZsjC27bDPHKsFwv8AeXfG3TOMV5l8YfjX4f1L9mWy07X73UpvE3jjwU9/ZDStPuJy05sll8xjGhVBvcDJIqgfY+jZYNNF7BYOloLyIl7e2bb5oCttLKhBO0cnI6AjOK5zx58K7Txvrmia/Bqup6B4g0hJorPV9GuI0lWGRkMkTiRHSVHCIQrIQCCc814t411aHUP2Zvh98W7eCRfEnhfT9J1X7e0LwTfZ/wBwLuIlgGMbxOzEEYyvq1fT8gQDKgYIH4cAAA5OeAORTIOb0bwiuiLG0urahrF0hwbjUJywweGIRcIvY4VVHB455n0vw7pei217bafY21pb3dxJdXCwxYWWaTmSQrwGLMc84xjrzWsBnIwAPamsmOlTcoQSMj71fDB/MHcbwD83rg5br6+gpkR2mIrkeTwhOOOjYHoMqARSjABB4NKoxVXG9ERlPKiWNPljSMxKF+XCjAUL6cKOe1WFJYh/4s5JLHOcc/jTduVp6jApXMxxONwXhTxgnkimK2xHCZAAwF3EZ9s07B69qag5Oe9HMwGow3KY1VMEHpkAggjr796MeU4MTFdoypPY+rc/MMgZGO9SKgTPvzTZRnp3607gjzH4ffAHQfh7411jxVZ3uo3MuopJFDZX0yyW2nrNK886wAKW2tNI7Yb+9XpzSFwcl8Zz82MNnnoOnemYAYcZwMVI67urVV0NkPG7ONxxjJYjjrjHvgDn1NPcb+CAc8tnoT3OPc5P40mwKKFznJpXEBY8cjDMMgjO0Dris/RfDum+HlvP7PtUs/tly15chP8AlvKwVS7ep2og+iitFWZc4GR6Um0DoMZ5ouUOGEB2luueOmfWoJArE56nk1NniomHPNFwjoyFvTnA59qaMLnAxnk4qVx6VGAOc0zQa3QsaxNU0qz1jat9bJdQo24RygMjHtkHpj15+lbNwcKQKzWYAkEUCsMkc5GGGVGBgcAelRBgQ3dicmpiyg8VVkb5uKAasRyjC1GflHNSPyKjlOQAKCRoNV7hSQanA4qKXmga1KEnFVZKtzKeKqSkZNSyio7Bc5qpcMG2kdMmrMgBBqrMMKv1P9KhuzJZ6VkUtQru3D1PQev09am2kAEjqM0lsZWAYpH9O1AUE5JxTtoPTmmM8x+LvhbXtZ1z4Z6n4ft4riXRfFUF3erLwfsj288ExGfQTdBz7V6nKhtiCiFOgX5ipAGQfz5piqFOcNnBXIPQHrUhBkbnJ45JOfb+WKq4EDOfl+Y5wVZs5LKQVx+R/SmKzFsksn3idp79sfXCk/SrBhz0HFII8Dp3pXGtTJ1XwppHiCz0+DUNPgvILGdLi1hkhRvs0iAqsiBgQCFJAIwffpW+m5ZQVyAC21do2gFs/MO4O1QRnueaj27WHGOKsIMg+tFy7HBeCPhc/gDU72HR9ZvY/Ds9zNdxaFKsTW9o0khkKwyFTIibyWCdAWb1qw3we8G3HhnxD4bm0VH0TXr6W+1K28x18+aZhJJIGUhoyJBkbCPp1rtiA2FIw/r7U5gQpB5OOtFx2PO7T4SW3hDQJ7Hwnq99o99NsIu9TuZdUCgMdyOtzI+5SpxhSnA4OaXwl8MLr+328ReKNZj1vXBaSafBHptsbKxtbaQoZUWESPvLbFGWfj0A5PfMMk8kj0wMUIArZUbfZeBRcZ4j8M/2eNa8Hz3S6tr2n3xg8LJ4M0l7WBox9ki84xS3GSTu/fbSFyPlB7mu28IfC6/0/wDZ68PeCdVks01zT/DC6GbxE86GCT7IsTMvfkgA4P8ACMV6HD97tz1wKubQeQAG28EqD9B1ouKx4Z4r+F2tan8MvA3wdtUM/h+GzsrLXtbJwos7cR74VUnO+TbjGOBiveC+/JdTG5OSjYymeQvHHA4/DPesmx8P2WmatqGqwRPHd6iFF2Emfy329MITtBO7r/sj2rSAI9MdBwOg47AZouZvcU+1AxSUdqQXAop54z7im7R3x+FOpRincbdxFAxSmg0lIkM9u1KQMcdaSlxQAmSetKMUlNc4NO4CuB1qM5Y0oJP0pTgGkMafl60oGVJ7U7cKUsChqkIh37eKTcTTgAetIw2mmWJk0h5NLSN1oGl1GscCoqe5pgqiiG4OF/Cs2T71aN192suR8tx0oJuI3Wq7/K3NSNJzUUh3HNAXEJyKjIBNPB4NNwSaCbjWwKgcYqZhg1HIO9A0ylPVCYHd+FX5xzVGY457YpS0LKLsACD1zVWYgquPU/0q1JwTkVVmIOMe9Z7glc6nxl410rwHoF3rGsNKumWskUd3PbQfaDbo7BQ8iLligJHIHGSa29L1PT9c0uz1HTr61v7O7UPDdWkokimU/dYODg5A/AjHavHbnwlqWm/tX2viOCO6l0TWPBl3plzDjfbrcQ3UUsW9T8p3LLKOR/B1rm/iX4PtPhzrel2nwj1G/wDCnjDXrova6LpVwsmmSx7gZpJ7aUbUQryCrA5yAvHIYn0c4KnLKVB6AjBx9KeitKhRDyOT7D3/ACpDlI0WQozqqhmRdqlsDJAIBAzngjP6Vy/xF1LxVaaPYw+DrO0n1W6vEtnur5i0VlCwJaYxh1L42gAUAdfahwA8ikqRgH171KkTCQgqQTyARXiXhz4g/EyX4r6j4IkbwrrKaRa2WralrMSTWpe0nkliMXk7nxIphZt2QCHUY4Ne4q0bqCpRYsfuv3m7IyR178AHPvQBHgruG3oajDkts29eeaw5/iN4S0/xIvhubxDp0essdgs3kO8nr1xgfia6J0UH5RyOOuQfoaCovUhCMzDjPO2p4VLAEDOemO+RmuE+MnxMX4S/D7VvEKWz39/DCyWFjHHue5uSMoE9SuCxB4wKZ4O8e2uifCbwlrnjrxZp0F1qtjBM19eMtlHI8sYkCqGz0GBjb+PNOxoz0VFXILEAkcZP0/xpXTjPY9K5bwT8VPC/xKvdZsNA1Q311pkcMtwFiZECzCXyirOBuBZCNy8cdq62VNzuSRyx5HCnnt+YpAU3GDSKMmp2jAjJ/EZ+lU/OPnLGgyxP0A+p7dKAL0H3qv4IA965NPiB4bt/Dqa9NrVmmjNcR2YvfMBj8551gVMjuZHVfxz05rq0V2ZD0WQlVB4zg4oAOoI70MQBnIOBzg5pz7PLz8yqp2kqQcnOOnWmtw6ggbcfOCQCQGVsfjjH40GT3HbSc9OMnr6df5UYAGD1zXjM37QU138JPh/460fQkvbXxBrWl6TdW88oX7GLq7S1kfOeokYrg/XpzXtUwCsVzuPUZ647Z/D+dAiNxtI+lNpSCOtJQAUUUUDFxQDwaByDSYxQIBSFc0tNbOaCmtLgRimk5NOH3aZQSOUAihuBQBihjgU7lWIcndgU5s96bvAbbRJwRjnimMdiopCc8VIn3Dn1qNzzVWKGNnqaO2aGIKfjR0TmmMrXZG0/SsljgH61p3Z3DisuQcMPeglkDkluORSZwOetIz7TTd27kUCFB604DBpqjNPJ4oFYglPz8Uw8rjvUzKMEnr/+s/0NQ4Jb8/0OP50DKdwOtZty3HFaVwB94MCMZ4Of89azrh+SMYI4pS2KKMnIqpKQgGeOTVuRxzniqVyd+3HOM1nEE7HpUikKQCQW6gccjJUk+mePxryPwz4Y8YeB/FEHiPUdLsPE+oeJNRkttZvoLjY2lWecWywxtgOgAJYAjliec17Ecd8fiKlIATPABVlOOv0p2MhpTdufcT8xByc9DjjvjjvUd3EL62lhWRomK4DhsMhwfmX+6w5+YYPTmpPL+VWYgcDii4lktrcvAFMgG5FaUJvYYIGfT5TmnYDzuz/Zz8FTX8WsXVjqE+tMAH1P+0p4Zr0dVEzq48wDPCnJ9/T0WXS4pdIl063eeytzEURoXcPDgZyG3k54POR249fnf9mHU/G/iHxH4kPinVL5PEmlao9p4s0S7uEns/3sPnWslmy/cwskYI/2frXuPjfxvaeBdEW/ntZdRurq5jtLPTrT/W3srkgIgPcrliTwAhziiwGfoXwe07SNat9ZXX/FN/fwt5gF7r1y8EjdCGjB29hXaXW5rnOCM8kk5z+NZ/hjxFc69o2nTarYt4c1W6MkR0m6lhaUSRsVYLtchs4DcZ+9Wo0So+0khu+4BcH0qSloed+OPhrd+LfHfhXWl1trO10NbmUac9qssdxNKqorEkHBVfM49xXJ/s42uqa1+y34O0+3nSy1/S9O/s+3uNX09Z/IltS1uW2EjqsYOSO/WvapQGdGViHyCpB6EHOR7/8A1qIo41QgRiNfmJCKB1JZsY79Sao0PHfhb4X8Vaf+0R8Q9W13WrzUol0PSLKOY2MdrBclHumYIoY4C+YT2PPSvW/Gfi/S/AGjza3rcjW+mRXMME88aM3k+ZMsaPtAJwCVzgcbuali8Q6bH4ptvD013EmsXMLXMVi5O6ZUIB2k8EgEkgHisn4leAovir4Nn8O3d9PZ2t1JA1w0KITJEs0crRtuHG7YACKLAdTPaMile6/L78cZ/HGePWst4gH2lSTkdwOM/N29PUjrW15YI2rxwTtGDgZOBwOwwPwrMuIVS4jZlzH/ABYONw7qf6VIHyV8T/hX4j8D/COy0K513T5vCNp4w0ma3tbW0eKa6SfW4ZAJXYkfK0mMgdq+gvj7D4i1fwPfaL4c0LUtauNXdbaSfRNXh0x7SMHJk89xux/CdoPT61458ddQ+It3bv4Sn8HSa5pV1r+j3mk+J9Ffesaw6nbTOl1ETlSERySBtIAwSa+p4GCygqFjyPuIMIpPJAx1GST+NAHCfB7wZe+EdMlivtCstHYwog8jWJ9SlkYKAWkllRck452gj3613xUFdrqjjAG057nk59BgVIWXnafc54/Tt9KaMMCc9wOtBk9z56f4F+JJf2aNS8C2v2Kx1yHxDPqmnndmLyhrh1CDJHQhAoHpx34r6RyGdi20kEkFRxgnP9aq7SnJVgB3wfQn+QNWDHuAQnaWwB756fzoEV5SC3HSmU5sNsCnOVBHqcjP8iKbuH94fnQAUKQWAprzLEAWaNFJ2h3IAzgnA98KTVfTtZ03Vblre01K0vblAGaKCZWdVJAyVByBz17UDLzABsD0pjdaclzb3KMY5o3G4LlHB5JwBx3J6DvTSc449Bjvz0yO1AgoGKRX3FVGGLHCYPJbBJA9SACcDoKjtbiG9t47i2mS4glAZZkbKvnuD39PY8UF7okfgZ7Co15bA61V1nV7PQtKvdRv7gWtnaQtPNI4PyRqCWbAGTwD09DUelavZ+JNKs9V025jvtPvIY5reaI5SVJdpRs/7uTz070E2NAkYByPzpsgwcGvLvC/jjWIvj7418I6tqkT6U+laZq/h6B1VGSN3eC5hz/EweMH/toPSvT5WwdxVkXJALAjp9fp+lOxRC+Q3SkLscZGOD+lOkIDgFlBzt5IHNMUtIo2HG7+IrjHB7np07+3rVAO3beGIXPQk4GPXPpTWyG2Hh8kbe9c7oOs61eeIfE1lf6G1hpmn3EC6Ve+dkajA0KOznP3SJNylTjoDXI/DDxJrEnxP+Jng3WLy41BbK5tNa0meYBnbT7uJVCjbydlxDcD6EVRR6buUgjIyMZ56Zps9xDbbPPljhV3SFTKwUF2YKq89yWAHr+BrnLS88TSePL9Zv7On8GTWINk8JBuortHcTpJjgxqAvvu3jtXj37Uniu/8YfDzWfCnhXw7qXiGa501tVt9d06eD7JaXFo4mhQyb96uzrwNvQk9jgGe+XIZFO5WXBz8wI44rIu2KSOvcHnFcnafGWxT4QWHxG8Z3WkeGNDvrCC/W4S7aRJIpYFkT7yKS7cnYoJ/HIGvofiOw8WeH9P1vTJmuNP1CBbiCVkKFlYcHBAI9eQDzQKxYZxjLEDnHJxSoGzjB69K47xz8XPCvw7urW28Q6zHpTXMbzK8sLvGiLjLSMqkKuTgc5zWX4n/aE8A+APC0XiDxDq76PptyzLZtcW0he8Ixu8pQu91wQeB3oJPTCpTPGAOvNNVg+cMrYGSQQRXn/xG+LSeC/Auj+JNM0i41uDVJYordtkkEVusiM6zXDBGZY8Kw+7nJrLvvjBf+HPhTceNNZtdEv447mFLRfDurPfWskTzRR7mkkjjKbHaRWUjA8rrzgAHafELxcvgTwJ4g8SyWrXsOkafcX7wxg7mWONmIX1OVUY9z6HHnvxc+POneAb/wAH2ui6rotxqeqa1paXlhqFyPtI025kWPzo41O4neyrnGD26NjpfEniW11j4hr8MrzTjPba14bvL2W8R8qCskNq6gDqpN07A9DivD20RfF/7E1v4jh0q1h8aaB4ejgN41uj3Pn6PcH5DJyVBmsiM5x8xOcc0AfSt3dwRTwwAkK4YxFkIOzPy7vfHNU5k25JYMSSePqau2etWninQ9L1uwk8+x1CyivLabaMSRyRqykfgfw5BwRVGZdueSfrTauUUZ164qm4wauysOapSEZrDYpRTPU0UN9auCBXjz2FVoV5P1qySwYIO4qrmBVC7iy54plzHcGylWCZYJdjeVI6F1R9pAO3I9at+RkFSMHPWpCnHAzgYxRcD55+HPhbW9P/AGmfHNtqniu5lvdV0HRtZuJLG3jiSR0nu4WXa27J2xIM/T0rqfjO82ieN/hZ4kvba6u/Dmi6jefbZYbVrprWWWylhhmZI1zgF3GQDg49q9Tg0u3S9lvVt4Resgia4KfvCiklU3dcZZjj3NXWjMjZ6BhtY9sEgnjv+NFwPn744+B4vj3aWd/4JhI15bdrbT/E9+0kMGi4kSRZFiYbg7gNGW2np7V3/wAKL7X9N0Ww0fVvBOsaTfwxg3dzc6lBeRNMQC7KxlL4LEkDaOvT19FiUMdygpJzllwpyeWxgYAJJ9afs2R+WAFReiKSAPp7Uizg9c8c3tr8UPDXhG1tRqCX1rdXupmQkfZrePZ5ZXjhmfd/3xzXmXxn+JXjrwffp4PjkhtNU8Ua7p9j4W8VWdt5iKklzGbqC4i6b1jjmbeOCHUA54r3xbaNbhrhYUacIUD4G8r/AHd3XHOcdOPevPdZ8Nap4j+P3hu8ubZv+EZ8M6Y97bzDB+0X88giIx/D5SRK+f8AppxTuUUf2l7VtL8D2Xje1k/4nvgu8ttWsrrBUlS8aXcJP92VGPy/7H4V7SjJK4ZAwUqpVE5dQBwMd8DArzH4keBNU+J97Y6JcvFY+CVeK51HyWzPfFGYrD7KMKxPffjtXe6nYQ67pd5a3PmwQXClMW0zwsm7qVdCGGKLjOQ/4XLpk2oSWsGg+K5TDObeSeTQrmKIH+9veNQRz2JFdhIwcFlVkBAIDptPPqK4/Tfgd4Z01Ii0ut3jIAVa88Q39wRg9MNKFx3xjvXYyIsKKighFACgjnH5nP1zSAqXOpQ6bFJc3F2lnbW+JZZz8gRAGPrgkngDqS3GcV5P8LP2k2+KGgXV7pHw88QS3EGtXOiyWf7uMoEjhdJJC7DYrpcxEf7p966P4s/DK4+Kui2Olx+JdR8O29tex3ky6eIs3Ww5EbeYh4z7964/wd8Gpz4h+Lml+ILjWJdB1bWbDUrO7jvTbTTGOzt0bmHbjMkQQjH8OehBoA9R+EXxFk+J3hC51V9P/s26ttTv9Mn09ZlmaJ7e6khOSCcZ2A4PrWnqPjvT9D8d6N4UvfPj1DVbK5v7aVo1EBS3aNZIy5OA2Z4jg9se9cB+z/8AD0fDOP4h6Wtk1jYXHii5u9PG5pGkhmt7eRmLlsk+a0wznqtcx4t+BOleH/il8M9el0zVfE1jHfX9neS6ldzaj5C3MAKNsbJWMSxRDC9M59TQZPc908TR3tx4f1OPSJzZ6q9lKtlcBFJWcxnZIFYHIyB7fNXgnwJ8beIfFvxO+HeraxrV1eWnij4VWep/ZC7LBNfxTRNPcCJcKHIuolOecKPTj6Ja1SGNLdYlijjj8kRxjbtHAO32+X8q8I+HfwL8S+BNQ+Drrc2skXhKPWNIv2Vvv6dPuNuF9wYbcY9x6HAI+gJIxGVj52LiJdx+9zjGewBrzuy+K13qWt6lYaX4F8TX8FhdNaNf+Vbw2zMMbmXzZY5GUZxkKQcHBPb0GSR9rt5eOAVSNsNkEdCeB3rhLP4SaXbXlzcXeq+IdYEs7zrBeatKIY9zFtojUgYGe/NAHE/tXfDq8+Jfw70+LTNAtvEOsaTrVhqCaZeS+Qk8YmVZklcbiECSMTg9vfni/E0Frp/wz8TWeneDvD/grxX4fvLSPVNO0UKqalZHynEMUwiziYOEAYBiUPbFe/8AjLwani/SbeyTVdT0CW1mSW2vtHuzDPDjqMlWDg4GVZce/pzd58C/DV34SutDH28Ge7t9Sk1L7TuvJLqBleKUuwOWDIPl4UBuB1NA1qzzv9nuxXTfiNdm88DL8J9T1HTm+xaDZxwCC+tVkiLTtNF9+aMyquHI4J+XufdfEt1cad4Y1G8sBbQ3EFq81uL8iG3R/LJ/ekFcJkg9jzWN4Y+GOn+HNfGu3Op6n4i1vyWthfaxP5hiiLKzrGqgBN7RoTiureMG3kXYp3oEfcSdwxgj379e2KA6nxp8RfirFrPiL4Q6/P8AEnwVdfZvFH2Yx+HYpJ40M1rcRgEtIcjcQMEdcetdX+xjeNpegTeGLPxTqms6ZoGp63avbHQWhtWWG/l2ZuWTqVlRgqkkbecV7b4m+GujeLNMsNNlg/s+LT9RtdUgGlKkDCSCeOVQSRjadrAgH19al8AeBE8Af8JG0d3JeLrmtTa2ysgUW8kyoJEUbsFSyu31c8cUFDPi/wCOrb4ZfDfxJ4mvdPbVLLSbWS4uLSOMFpFCMHduQGG0OcdwR34rzi++P/hLWfGPib4RNaeI/Ck1pJF4ebU4IVjt7F7uAi08qWN8xkhiqspHzIckZFer+NvClh478I654b1It/Zms2Nxp1yYyQ4jkjKce+Dj8K4rxP8AAXw54jk1+Y/a7e41qx0y0u5kkG5zp9w09tJyf9Zudhu9ABQB5zF8JPCvw3/aT+Fhh0wXlzqPh3V9PfUr7dPO9xGbW4jlaSTLGTaZydxJ+XHUgV2fgP4y+IPH3in4irp2h2sfh3w1cz6XYzeb/pl1fxD96hUnAVlZME4AOT0IruvE/gGy8T+NfCfiq7nnfVPDMl3NaLCwWKV57dom3r/wIflUkXw88L2fiqXxJBoVhHrkjFnv4YFSV2B+8SVPXkn607ibPIPD/wAfPE/xG+Aniz4oaHo9jo1lDp2o3Gi2V9LJNcGW1kkRlmxwMvG4wOcDPQiuL8BftTeN9e197vXLPQx4e00aKdVGnrIrXMOrfNBdwu54VZDHGVIyCGzjBx9O6J4V0fw5pMum6dp9vZ2EzzyS20SAxs0jFm+XAHJJz9aq2XgTw9p6uYNFsoy9jDpz4hXBghZ2ijI/iCtIWAPQ96YzzrQ/HPii18OfGGC9Ca3r/g7Wb+KwaNApuYWtIry3yFxyv2kL749q8g8L+OVsvjz4J8Y2fi268caXremyeHNc1aeOFbXRrmUrc2afukByku9MNkjzMsQDX1vFbwW880kEaxSSFd8iJjdgYB4wchcLznpVQ6fbQxNFFZ28MZIby44l2FlyVbkcnIHXoWPNWO54bH8MvE+ieFPjx4Y8MWs0Ka3q8mraPHPOESVbm3geeCOQkhf3y3AAx/y0B6VU+Gvge9+GXxum1ez8BQ+E/BviTRYNPlsdKRJW068t2ldZbvy1A/eR3EibsH7oyelfQxVdhVT8pH3SOAM9Cc89T6UwgKpCDb1AC5AAwR0z6HvmgLnzP4f+DGp+I/grovhKTT7R7r4d+LLqGzsvFVsz2OqWcTz/AGUHaWLILe4gUN/ejYdq9c8JW2t2ukwxa9FpttJGqxrb6QGFvEiqFVVDAH+HP4iuv1CdQgHOSSSMkgE+hPJ/Gsu4Jk4BoGcL8Y/hVbfGX4b+IPCM19LpQ1OKJFvYEDOmyZJMY9DswfrUniD4OQatbeC7m21/UdI1/wAKwfZbLWLWGC4kkRoljk3xThkAIQYxyM9K9A0+DB3L97pk1JJhd315oEzgvEPw7vtcubS4Txx4l0uWO1FrcJpstuqXaAk7nDQnZIcj5kOAFxgd7tj8PdB0zwTL4SjtFu9CuFlS5gvJZZmm82RpJGdiVJYyMWyAOowOK6rJUZHWoJOtAWOE8F/CXw/4Cv5b/TRfzX0kJtln1K/nvDDBkMYow7/KC6IcA4GPWtbw54J0bwrpep6fYWgOn6leXWoXFnP+8TzLlzJMg3ZwhaR/l6dT3reLEdz+FITn1/GgditBaWuk6bb2VlbxWdnbRiGGCBAkcaKMBVUdBiqU54Oe9aM/K4PSs2cHGewpsZnTMA3NUZgzEbeRV6cDOaquQKwluHM0eusjoCSycc/Lxx/n+lTRSCNd0vl4OVzIwTbj3OMVmavJN/Z119glt7W/8p/ImvD+5ibbw8nBIQHaTxzivHfhT4J8SeMPCWr6T478SX3ijSr2zti9xE6QSQ3oZjcTWc0Sq4iyY9hY4yj5q7GJ72IgSFQlzjdjqQPX6cdaRVGM9R6149o/jTWPg9q2keFfiDfv4j0PVbv7HpPixF3Tyy54t7yMc7j8p84ZHQEjFeyzo38ZzKc7yBgE5IyPUVIEcSgg/WpEXzFBT5w2Mbec59KztVuJtO0m9ureyk1O5ghkmhsoyF86RV3KoJ7nGB9a4b4M/Gu3+Nt54qn0vSpbfStKntrNp7pgkxvGjWSe3dByhjDrzjBz1PNAHpKoQ4wOPWnhckluAOp7fnWH4r+IHhjwZHZtr2tQ6c93v+z+c3zTBMbiEXJwAy5471qaVrFtq9pa31jLFeWc+PLlBKqyk4HBUk5Pcf3aB3JvKCsVXk5AOPU9P5UhU7dwI/d/MNxIC8dT26gD6g+leRfCT4o+M/iZf6tDc6f4Xtl0jWrvS7+0tdTmku0WGXYTsEe0ljtY88Aj1qa2/aA/tBZtT0nwzPqHh201GXT7y9W8jW7i2NiWQWqhmIB5+bBKkELggl2LuesvGUYBQSgHyntjtUse7blufanhVAyhEityGVcZGOOO3GPSnEkAqB8w/wAKQxAvHNRXFuJPmzyBjFU18Qac+ryaV9stm1SK3F29k0oEqwl9gkI/ulgRn1BqfR9Xste0iz1LTrqC8sLyITwTwvlXQjIIoGyDySeqjGe/an+YWcsSc4xnufp2q+Y1KZ6Dsex+hqlOm1lIBCkZGRigQsbH5F5IHAGc46n8B19qv2rfaACB1X7xJAI7dPx/OuD+J3xE074X+AtZ8S6lDPdWun25c21uP3tyxICxR92YkdOw5rY8CeMbTxz4F8O+LLKOWLTtesLfUoVlBDwxzIrrv7DAYA+nfFArHWvCCBt6AcDGMVGI2HA5rmvh38YvB3xWW6Xwvq/9pyWkUcrhoJIi8UhZUlQOq742ZHUOuRlGGeK6rzQ7Z447CghkRjYj0qIjFWSwwahwM80CGjG3mm4xTmHpTaCloFByRiiigT3IHVcqrLk5zxUrbcY/IelDJuOe9AXJoGtWQYAJI57YppUA9Ac+tSEYJoABoKZHtHXGD7Ux2LHnmpJODgVDnNNashhSMOfalLAZyQMDNDD6H6GtLBchbk1FJwfwqdlwuTVaQsOcZFBQbgBzUEj4PB4xSSTD6VA8oweaAKlzIHbaT3qFVzJz0pZeSWNPsx5kmDQO5bUeWny96hlYAc9anYYyPSq07ZXbjrzQOwxnGBzUDnNOxgYzmoi45Ge9AyNutJSk5NMckGgBs/3ay7kFlOK0ZXO04GazJ3JbHGT2zTJuUJBgVUl7VekbjjrjOO/TP8qozsMjPHUVlJajseiePfBdh4/8KX2g6lLfwWF6AkzadcyW8m3uC6MDg9MYritN+Dfhr4SaImo+DfCr32r6ZEY9Nt59TuJTGzYBbMrfKOCTjOcngV6yYiTz0+tKY92PlGB23EZ/EUXMjiPBPw+uLXVW8TeJroav4nuEJBdQINPB58uJBkdydxGcsfau6zn69yep+tKq4XHH4UgBzSAg1AzpaSvbAm5SN2g+bAEgGV3e25V/WvGfAPwd1T4deJdI8Q6HcW63mqRTx+L7G5lZYrxpZGmWeMKCPNjdnXd1KlB0WvbJEYnPbFR7Q7CNgUDfLuXGcn5f03frQBznjTwVq/ivWdIvtH8RTeH7qxebzWg0y2u55Y3ABjDTIfLA27SVznbXSaVYyafpUMBv5NUcDd9onCJ5zjdtB2Kq9eMj0rxn4YfF7xz498VeI7ufw1pb+BNN8QXfh4fYXZtRt5bdghmkV8o8TkEEJhxtyCQRXo2qfECOPxq3hy00a/129gWNtSms2VVsEcEq8ru2eg+6MkDGeTTsVY8XfwB/anjbR9Q8O/C+68GeL4/EqapqviVmt0DQl1F2qSh2LiWIMApGA21vpZ8V/A3xYP2jJfHnhuy0azuZ5dN8rV7e9ktntrVHzfQTQCNknaTzJMS9cBVONoz9GFZAcHdICCf3fIOOOgJBOMe/5UqSrIQEUBgdnB70XGYPjLx3Z+FNR8L2V5b3DzeJNSbSIJEOTHKbeabcxHX5YWH5e1dIW+dzt2nrt/ujAKj/AL521SutPtbqS2nnt1mlgl82BnjDskm1lBXI4O2RxwcndiuV8BfGHQfHeq6hpEQvtI1qxeZpNK1exltpvLSRlEsW8YljBz8yEjOQcYNIdyh41+EcOvfEDS/GmlaxdeHvEdnp8umTz2MUUpvbN5FcQyq/8KsGKkd5GrL/AGST5P7OngOyXAbT7FtMc9CZLeZ4ZASh65jORjrnnkV0fjzxd4l8M6jbnS/Bdz4w0mSLcw0m8hS6jkw+SY5nRDHhlOQ2c5GOKp/AfwrqXhH4eCw1i3+xXc+q6pf/AGR3WRoUub+e4RW2kqCFlXgEgcc0D3OGbxF8R9d+IPim2Fz4ksdBtrtYtPg0fQIISUCjLm5uWGRkkYHp717dbwPFYW6zvJJMsaiSSYqZGbAyX28Z+nFXD8qlCTsAJw78cZJ7+1V5dVsGujarf2rX+wubRZAzlB6Ade/5H0NAjzz4ifDBvH+v+HLxtb1GytNEkmuW06zijkS7d4mRNwZSSQSCMdMdqxf2VrLUtH/Zy8D6brFndW+q6Zp/9nyW+poVYCF3jQHvtZY4zjB+8a9FHiXR77UZNNttUsru/RGY2cEyySgAc4QHkggAkHIwQelWLnU7fTJLVbm7itvPnW3tTO20SyMPljUnvjt65oC55N8Ivht8TvC76lcX8XgzSLi6EdrDNapc3Qt7KJmMNukZ8tVUM8j9+ZDXtVjba5E1gl9fWl+gikW8kigeMu38GwEnaPxq3p1w86gEOhA5EgKnOeeD0qrrvirRfDEdrLrWs2Wkw3MywW0l1MEE8pOAi5+8fpQQzSIIL7gByMYzjoOlMKipLi6t7RYzNLDAZZBEnmSqu+Q9FGT94+nWovK5JGepBDDBBBwev0oEIwFRkYNDnB4OaQZPXj68UFh3ooUnzQmOTwPc4JwPU8dKBhuVJIwWJxwoGc59Oh6/1oJdwPGKQ5BNOADIGyArfxHgAeuenY/lSBAQpU7l25Vv4WHXIPQ/hQC0K5PJ+tKDyD6H/H/CklcJIpdQq9SxOBjGfz9q43Sviro+q+KfDmk6e73aa1BqskN1GML5lhPHFPEAcEtuZx/2zJHBBoLe1zr2IYsQcjj9Rmos9PfgAd6szQtD8jKQygAs2PmIGCfzFczr2k6vqGueHrjTNa/s22srwyX1i0AkW/jaNkWNj95QHIOR681S0J3NydhbwvNK3konR2HAznPX/drI8HeK9L8d+GrHX9DvF1DSb5PNt7mNSFdckHGQO4NZHj/XvEOhabZXHhHw9Z+J7yS9gtZ4bvURaC1t5DtaZmAORtBG0+nqa82/ZGTU/D/wbSy1e40ey0XQtV1TTUhi3R+SIr6dfmkc4ce44PGKq4WPdZuEz/Lmqcz4Wqmi+J9L8XaRb6toWqWerabdBzBdWU4mjkCkqwXHXBB4pJb23nlkSG4ileIDzVjcNszzlsdO/X0PpTGNZt2aj42n1xnHcj2p25iDnG0jcDjIK/3gem3kc9K5e11TWdR8XYsptL1DwZJZvCzQOz3kGppKFxlSV2lGwQeQVOcZFAG5IMy+WPvcZ/HpVy2g2RlgDkcnAzgdM15n8E/HF74x8PeJrnW5oTeaF4l1TRZ5pMRIEiuitvuPA5ieHGec1p6zq/i7wtr3jjUr3Tl1bwXp2kpdaVY6dH5moTXKed5sQUkdR5WM9c8UAdcmtWM2q3GmJdRtqENvHcyWwPzrE7siOR6FkYfhUsyEJkg5wK+ZtA8Z+M9X/aD0LxNF4Oh0D/hKPBM9vbWOsai0czfZrkTAShEba4W5Pye1e6aX8S/D2t+Kb3wpa67p83iixgM95p1pL5pjRXCMdwADYYgevrQO5tjO4g9agKluQDg06/v4NOtbi7uJEtYI4mnklmYIojH3nJPQcda81b9oDwTdyx2umar/AGzqU0wgttK06Jmu5yQCGVWA+QDPznj5jzwaBnoxyF3EED1waa/QHjkcc15vo/7QPhbXfisnw/sBfXPiQRPJeQrbiSOwKjcqPKpKbgDjAY9B61U1P9oDQ28enwjoNxp+p6tbSrDfm71KO0O4gEpGGwzMAwOFyOcdQaYrnpcnK4BBzwMH6f4iuUv/ABbplt4ssPDsk+zVtQtJbu1TaSHSJ4g/IHUeavHv9ai8WfE7S/D1p40eSO6luPClgt/fRLGUaOJ0kYEbuWH7pvc4xjOM+ZftDaTreo/Ez4Zz+HdZPh6/vJNW0qDUBaLcG2820+0oRGSuTiz7mkI6bw5411nUfix458KanYpa6dpFppl7pU44kmiuI51dmPoGgkH4Y611l2PmXjnntjPPBx24xXhXha08V6L+1lPba3rthrC3XghZ55rfS/sZlEN7KB8qySAkNO2SDyHHGBmvY9E0aTRrBrZr2fUM3NxMJrl9zgPM7hSfRd20ewFK1y+h9CBOORTWQ54FTHBOBRgd6mxiQgY60n8QqSQc8UirnmiwDX6VVus+UzIGZ1VyEXq2FLYHvlRVxlH3s8Cq8qpPwFLHGMZwOh70WA8D/Zq1/Xb6X4p/ZPDq6LZr43vZSurSlJAssFtKwCKrc/OG5/v1ueD/AB94f+HfxJ+JOh+L7u20jWrvWU1awN/iKPUbR7WBEeJ2XDYkjkQr1+TOMc16VonhTTtB1/xBrForpqOv3EdzqBLFlaRYo4iyZ6ZSKMYx/D71tXFlBcgCaJXQBgAyhtmfTdn0pXLPmTV7DXfDPxLtLbwbfeP9U0kXV3N4lvLAxyAzuVmtSn2v5GRRKysYQRt2jqDXt3inxbrlvceD7XRNLeO91m/SK4/tGIbbW3jUvKW8vI3HjGMdeldvDgu0nIdsZKDb0AHrz0FOcZO7A3qcbumQeDj0NIdjyD48eOPGHwrsZfGOiW6a94ZsrCf+0dGVo4rm3Y/vIbqJm5kAfYjJ6AYySa8/0rwRL8K9B/ZttYmnm8Uw63m7eW4MskqXVldS3wJ5IjEzR9eB2FevfF7wLf8AxC8OWOgWpj+w3OqWTanG7Y8yyjmVpUzx1VQeOuMYrY0X4badpXiObX55brVNZbcILjVJvM+xpIDuSEAYUDLD8aB2Oju72z0i1knu7iGG3jAUvdSBejAEEsQG3YJByOoGOK4z4ZfFcfE6OSey0K+022RApnuby0k53FcbIpWYdM8gda63XfD+m+JLIWWqWNtqdlu83yLuISKGHK8EdjjHNGn6Hp2i7103T7SxV/vG2gWPcB0yFAFAzD+Kuk3XiH4X+MNL0yGS4vr3SLuC1QSNHvmMZCKDwPvY7jrXjHwr0DU00ST4Z+MNB0zQNZ1Pwct39s8N2gguI2wbaaKTcWLyJlHEm4A+Zjtz9Bapo9rrWmXmnXUcn2e5i8t2t53hlVT3SRcMpznoa5TwH8JfD3w3vbm4059Rvr+dEhk1DWtUuNQuFjVt6xiWUmRUDgNsVtuRnGSaBWPBf2bNQ0zxN4g8N3fijSNHPjW90Ma1pWo6HxAltiMSxyxJ88VwjSAOrgBi3yliGx2P7Vmk6nd+DtFv4NTi07S9O8RaNczlLPfOuNRt1aWNy2xQqSOSCuePcCvatP8ADmj6JqV1qNlpFhY6jeOZLq4t7dEkmLEEl3UAsTtTJxzgelO1DS7PU7aW1vLaC6tXCg28yb422sG5B9WAP4CgkPC2lXuiRtbXep3ms3TuzNdXvliQlu37pFGMLxwevXGK+a/j14e8T/E/4cfFTxN4m8LWdnZ6Ppd3J4XXUbzdNE0Ee9bpUVG2ys6soGRwoOBnJ+obFBDLlFI4AwODwoAP4Y/LFaVzbxX1rLbXAWWCVTHIj/MrqRtYYI7hjQSzwb9pq58Max4J8L2XiO1W48R6tMkOjzeVNMbK5kiCvdYT7pjXkMe5OBxXuWmMqaba4Zp1EKL5zklpMKBubPOTirDEswdwryDLKSSdhJ7cccHH4U2STPy5YqOAWJJx+NAjD8S+N/D3hBIn1rWtP0hZiRGLydYmfHXbuznqP4fxqXQPFOmeLNMF9pN4L+xMhQSqpALDGcbuo5HIAFZHivwW/iLU7S6i1OXSHghkj+02ttA02GxlVkljO3OOzD9eZdA8A2Hh3Uftq3mqX18VCm4v9TnnBHbCEhB9FGOtBZwH7VF3daB8Mo/E9vJc7/Cur6drzpbyGMvbw3UZuVbHVTD5h/4BjqQDzXxosNcuPjZplrefEfVPCfge48O3s9lHpsscSi/t3hVfNYqxfckjEL/F5TYya9l8e+FbLx34Q17w3fu6WWtWU9hcPGuMJJE0ZP8A4/n/AIDS6v4M0XxLo+mWGtaXZazFp5SS3GqWyXCxzKhVJlDBgrruPIAJ454oHc+fPiNaweOvg58FPFfxEjv44nk0+fxXLbTzQxxLLZyb5JEhwChmKAkZPzeg49M+B2lWVhP4pufDrXEPgm6mtv7KtZ5ZZYzIkarLNC0nzCIgKoHTcrEda9UKxmJEUeWhXayqvbspAI4AwO44pueOevsAB+QoJOR+JWk61q/heaLQPEGoeHL+BhcC60qKCSWVYyGZMXCMgyOB3618h2Xwx8b6TrtnLJpt/eDwt48uYW+26jMks+n6vHveYJbgIFEtyclT1jPpX3IoAc7geAcdxk8dKTLEfeAPHrnAbIye54GB0FAN9DE8KaXqWg6LDYXk1rKIMpG1s0rAoOnzSMzE9eePpXH+JtB1qH47eC9f09Lq40SfSNS0jVE+0EQ27M9tJbzMmeTlJRkA+/avS3IPTPQDn2GKhYgAggsD1GcVQI+WPgb8IfGvwq17wHdataiLVptV16w1i8s5TcJd2VxvuraVuSAUaMIoxxu561r658Itf1vwJ8YtCsdMuVstS8cWut2unyT/AGZ9RtQthLcxJJnCFninGOBkt619Fum4MCOGGCV7gggj27dPepSzEHHyAkkck4zyfpyTTGfOXxS+CV3q/wAC5F+G3h2XwF440+1gOj6ZHqS2622yUvLGWjcozOrsDkZOOuMVm/Hn4aEfAu2k0HR77Q9bS80y71S10KQrc3CeciXaSSKSWPlvK2cY49SBX0wdqMcgZ67jycj3Pr61mXWY5BiQhieHPO0d/rnpz6VQHzL8KPg5438M+NYdYvtT1O4udG1650knUb1xDd+GXtR9mWNA20urMh3MN2VYHpWhqvg/xV4E+HPjl7dNT2ax42fU70eHmL3f9mT3ERl8joQdokbC5b25Fe+MMuEwAp6rjjH05qzbJ5a+jf3+Mj6HBxQK58gaV8NdQm+CPx+8EweHPEENpqa/8JF4dGryO93NvtEX55txIk8+1+4cEbgcYOa0/iY/jq2+I+u6rYJ44PirRb3TpfD1hpKzf2bd6THDA12suPkebc9yMZ34VeMFc/WEi+ZGFYkJuyRnIBwRkHjPXvTHmfEit91jkKTkHkk5/wDrGgZ5X460a/8AGnjX4T+LdD02eEadfz3lzd3yNG9vZTWUqzrtfDM/meT2P3K4r4H/AAg8ffC3WJZtdt/DevyxvcW8eux6hNDO9rNL5rPJAISrSkhfnL5woG0YyfoORx5hdc78jJB6joc9M8e3aq+8qu1sjdyc0AYPjnwjZeO/Dd/oF8WW0vTGZ9xPVWDH7pGQxHPsRXn/AI6+FWpa78Xvhf4x0PU4NFg8KSXsd1ZtCf3tvPEqIAV67CpIGT1+tesykSdeQeahbB2g9jz9KCjzuL4L6ZpnjDX/ABFpGrazoEuv/PfWOn3Km1kn8pYzcBGXcHIjTpIBx0HJPL+Jvhn438SaBJ4X1G/8N3mlXLRrN4hFnJDqiIowW2ZdDKRgeYH5x0GMn2c8En+91+lI3yqAv059KYmeZ/Ez4H2vj3U9RvbTxDqHhtNb04aVrUOnxQbdRtF8wxo4ZCQwMrgsDzn8Tt+J/Ben69qfh6+keeCfw/qH9oWewjBPkzQkNjGfkncc11ZG3P1qled/pSEcfN4O0648a2HinbJDqtpYTaahzlRDLJExU+uPLJrUMuQGI2Mw+Ye/f/H8anlbaTVKQkgY9TQX0Pf0A38nHFP2K5PzAY9a53xr450T4b+F9Q8SeJNRXS9F09Vee5kUlUDMEHABJ5ZRwO9ZerfHHwRoPhDSvFdxrQl8Lajcrax6xGpNvAxZ0DSnH7td6lctgZHWoRkdrsTGAQfpTAuDjtU6Il1axTQzC6jlRZFniwY3BUHKkcEe4qF8g4x0460riGyKMYHSoSgQZHrUjMOMgsxOAAMkn0A7mqeo6lYaPZm8v76CztdyxiWWQBGZmCqAehJYgYHfPoaa1YFpUGQe9TDBBz1pGV4ZjFJjzA23bkE0hy7hl+YdPl5ptajuTQLtBzngZ6f59ac3fHY8+1cR43+IX/CI+MfAOjT6eLmz8U6pLo73ayBTaSC2lmUnn+LysD6Vqat8UfCWieKrXw7qnijRtM8Rahsa30q71GOG5l3n5cRk5OTkD1wcdDSsXc6KM7c8cjrTiMd81wviP47/AA98F+JH0LxB4x0rR9WUI0tpdT4kiD4CbwR8mSeN2K7oNGEB4HGcgghvQjHXII6djmhqyFcSkZSQSDjjFPddrEehwfrUbtjv+Hc1JSdxiblUZb61GynILHg9RTtyuOHXOf7wqOckHABYADJA464oBsaTvXIBHrSEFiMDPHamsoX5ncxhG+YNxjr19Punn2pmn39jq2nxahaXEN5YToJUuraUbNp6Hd0xwevSgkt2xHm1okYx71n2M0LySNHcR3BTKnYwbbjqDj0yM/Ueoq6hPOeoPT0oJYMCG3fw9M0km0L15PNSYVlwTUbKAaBEedy7STj06j8qay7lwQAvsae2M8VG7YoGmRSIW4PbpSRkhsMMACnBs0uflIHWgdxgOHweM9Ke+McGmoCoy2CfeomLGTPAHtQMa7Zbim5NOPzc4ptBLDrSEAmlprMVPAzVBcaxAGKRjkDFNdtx+lQyuB/EBx0zVWC4SHHWqN7FvXf/AHetTyOTlepprI+z68EUyihCquN3bPGRVjGKdKgRB6dKjJJ6UCsEjYXFQu4IzUjg45qrK2BigFvYa7YPHSoZGyc0rPUZPHNBdgJyDULdalHQ1DLkNQMDjHvUJbnmlZjUR55oJY5jkZqheEc/SrbN8vFZ14/Ue1Mlauxl3LHdleRiqM1ydwzxVqduDWZPIqsNxxSRqz1/x/4x8O+H0s9K8RXVrYxawXitbjUwn2QSpiQCQt8vBVGw2B8vqa80/Zc8J6povhPxJpet65b+MdGuLuSZdTNpEkU80oD3kaLgobfcwK5U8l+gwa9vvrODUI/JubeK6jGT5VxGHTkEcA9D07VBrnhyy17w3f6EVltrK5heEC2PlBVwSNuDwM5HrzzwKz2Oe55x8CfCNrpniLxDrnhvz9G8B3SfZNN8PJI/2VpkdvMuoUY/uVYnbsQBP3e4D5jXsE0QWRwG3jPXGO1ZdjPFpt1DollZzx2lvAoheNB5aICVVfY4Az9c9602LMOnI4PakMrzny4ZDsVioEg3khcjjLMOVABPuc8dK+Jvibp0fgD4p+Fvh5qes3938G5tXi8T3i4e4n0R0lLR28zrn/RJJlLKeWBd92Bivt0pkqSAGDfK39w/3s9Rxkcc81zUPgPw9aa5rWsW2h6cupazEIdRnMC77xFPyCUhctjjk5PqelUtAIfiJ4m1Dw/4Jm1bTbjSLOVVSaW5vDJLaxoxLEhYfmlxnAA649Kyfhp43n8UxstzfXurxSDfFff8I/Pp0ABxwPNJPU9j0I461rt8R/C1n4xt/Brataw67cJhbBCzEfKSEY5Kg4RsLweOnIq34l+IvhzwnqOm6frWuWmm6pqLrBaW005EspZgiAghgoLlQCcD8jTA4H9o/T5JvDnhHUreG4nm0jxhoV8DHESTEb1IZWwBkjyZ5T/wE1y/xl+CureLPEHxAjtfC9prVh4x0eBLbWLi7jS50XUII5Y0dVYBgBmNgyN1zkDGT9FA/eXahKt0wuCyZZfY8rnPtSkDaAMqOnz9WH/1+v40Fnzn4j+GPijQvF/jMad4WtPGVn420a1ivNTuXhT7HfQxGBpJ1dwWjZBGysmTvVs44z7LZmH4XfDG0k1S7+122g6XEtzc5x9o8mFVyG6gEgDJ5NdSFdlG0bghBVTyAf8AH865n4h6n4TtNEFj4xvrGz0rVrhbJP7QuBEt1IcsELHAJygx2wKHqSy94S1S+1rwrpF/qWnPpF/c2kM01i8wlMLMisV3D3P86w/iVL4zh0yzfwPFpd1qiXaPPZawZFjurcK5aOJlYBZCQoBYAcjmu1kJdpJCMEsc49jj8sAY9sHvWXrN39h0+7uBDNP5EDzmOBSXfyxvVRjodyjpzSsUjyv4J/FTU/jD4s8Z6h5NxpvhzSJLbSY9Ou49k66gsQmu2cnHC+ekfGc+Xxmn+PPi+PD/AI4s/DOnal4RS9eDzG/tvW/s86M3OFgCkkYAO5sDkgdKtfs86JfaL8KdMutZhNpr2u3Vzr+pxyjlbi8med0bPUqJFQf7ldRqngrw5rN5Pe6joGk315IMy3NxZxvJIFAH3iCfugDHtRYCxo13PrGjwz3sVms1yCJxp0pmtyhJU7GIBI2lj9c14P8AAzwRpM37J2m6DrOiv4uh8M3eqxLpCT4e6kt9QukER9QTtXJOPkr3/T9EstGgFrp1rZ6ZbpkrDaoI4kYHHRf51jXnwz8PahoH9ji2vLPTHvZ78xadfT2bvJLNJLKS8bqSC7Nxj8eRRYDzf9mJpvhq3/CG+J/Ci+FfFGvSXniH/RJoJrO4AaNTGu1t0ciRvbDawAbbwTzj6EAAwvmbtoOC3fHU/iefxx2riPBXwl8K/D7UrjVdG0iO01CdGil1Sa4mnmeMNlozNKxYDKrwGAJHTrXYTyRWETzTOkUEK75ZLhhEEA655JAwST16cnmixLLioVyMd6ZJGW+btisnSvEH2nSUvdSNrZRyOTbTJeq8U8X8DhicHcuGwO341oWOrafrdmbzTL621G0diqzWkqyJkHBGVJHBBosIXHvmo5DzT9rEHAP+f/11EAXIxySN2B6ev0osVYaB1pN+KbIWAUjlWHBHINZtp4i0ufX7rSPtsD6nZ2yX1xZBx5i27SFVkx/dJjlGR/d+lFhM1gd2R1OaYcYb1HbvXK6f8SvDuofD4eM7W/a60EQGf7Rb2zyswVijKIwN5IZSOFNZXgj48+FPiB4qfw5pX9sDVY7IajLDeaJd2ixRMWCljLEvXY1FijvHUBtpOG9KiDAKTnIwW6dhjP8AOn3B37i5Kgj5mJHBH+RWJfa/Z2FxdxSXllHdxKd0M1wuVwhYAqDnPTjryKLCsbTI/ZGPbgZqGRiuc8Yr5uv/ANrG3uPh78LPEen6t4b0m/1rxHZ6ZrdhqN5GogjLSxT4ZmByGiJ4yOeCa920jxn4d8WJdN4c13TdZitZGjcWF0kyrhjxkE84wcdeRVWCxrEsSgUgknpntxyfTrVQ6jELlYvOjWU52w70LMMAk4znuK8N+M9lZeJvjn8NtJ1XW72x8Ppo+tX+oWFtrD2MUzK1kkAlKnHLO4APJwa2fC9r8J9E+I+i2+g6ZZ3eq3Vveraa9butxGGgMTSWzzEsRIUkVsEDIAxyaYj1oKR7+hB605Sd/HLcDGfr/gaeVcIgfl9nIwf4cBj9N2eenNV3Uy7lVPMdgU24JxkHHT6frQFxYo/tKK6EOj/MrKcgj2Pf/HNVnPluwPrXmf7KWbb4Szae07XEmm+Idcs2d2ycLqdztGcnopUfhXp10FLtkhSecswUfXJoKIZZSoxiqUkhY+narMoZDtOVfIG1uvIBHHoQRzVKSQxq0m0sMqrMeFXd0yTwO9A0uo0k56Um7LKv8THAHqf8ioBdQtB5ouIlhALrKZVCMBnJDE4KjH3unI55FcJ4q8e6r4d+Mnw/8LpBE2n+JLfVBOJQwlWaCKKSHYfujIMpyey/SgbZ6FnnHQ4z9aim4bnjAzz6V4Ra/tEabp/7SfivwnP4iF/odtocFzHY6dZSTtaXa3MqyKxjjPO0w5/3hXsMniJZoNLu7Syu7+zuplUvHH5LQoQSWdZdr45HQf1oFc0XIyRkH6GoHyKmcsThiWK8Fs5zUMhwc0EtjA20HdxWdeEZJ7VoSP8AJisq8BVfrTYR3Mu6bGMVkXcZmYEHpmtG5fqO9Z5VmY/41KNWfTAjBepjGV6HmgQkgtQpO72rM5hqAhSNxAJ5wcU9toAC9MUjLwcU5U+UZoHcgbrg1Q1a2mm0+6W2laG4aFxA6rkpIFJDe/IXj3+tajx5Oe1QXEMbwESbsMQuVcqQM87SOhwadxnzZ+yR8L9M1T9n/wAL6vqNxNqvizUtSOt6lrNyf351GKcxuDgEqoUMm3phQR1rr/AlrZeJv2jvik+r2sF5Lptpo0NlbXEYc+RiSYugYcYlbG7v5dQ/s8/B+T4Sadr+n3kMjwQa7dS6XK140vmWkmJVLDs3mPIOewFdn4x+EOm+LPEVr4ls9U1Pw14lihFqdY0WaOKSaBSxSGdJVaOaMF3IVhwWJ70wKnx48b+J/hn4Ek8ReGtEsvEcWlsbnWbK7uPsrnT1jZp3hY4HmfLwp5O/gVP8G/iEPHfw2tfFFxqUFy92ZLp4YUAezViXW3kAOS8abVPrgEcEE7uv+CovFXgmfwvqeo3d1bXMQglu2KrKw3LktsCKcgH7qgYOK1ZNOW1tbw6VFa6ffSxsROLcYWTbiNyoIzgqpPrjFMdzk/EHxFu9R+E0vjb4eWUPjSaW1W+sbMOYRdxhx5oVuCrqgk+RgDuBXGRiuA+G/iaz/ahvfiDBq1pZ6z8OYJrLTdLtL60KXcF4sJN4xLAYZDPHEGHRoXr0f4XeBG+G3go6R9ql1KWW/utQlmEXlq1xPPLcMYl3NsUO5wvAx2yawfgf4Ou9P+Bmm6VrMUul6xra3eo6mIQFmhnvJZp5VDDowafg9sUATfs06ldXPwitLO+vJNSl0XUdR0JNRnbd9phtL2a2hlLnrmOJMk981JL8e/hsdfvtFbxvosOrWkwgmtZrwI6S9QAO5GR0z1rsPBfg3Tvh54W03w7oiG3sbKExKHcliWJZ3Y92LszH3Y1zF18DPAN54mvNfuPDNo+sXVwLiW6YMSZAoG8AnH8IoC51yz/bEj2uHEg3CRSGDd/l/PpXmHxr8aeIPA0Hg650HyHhvPFGmaZqguUzmzuLgQEr6He4Gff0FehahpVveXGnXNzGWlsJTNbskhUKdpXkDg8HofSuN+LPgO4+JngybRIL2PTbz7RaXsF7PCZVWW3uIp1JUephHT1oKPOvEn7QnifwT4h+Imoaj4b07UfAHhHVYLC7u7K/lTVLK2ltbeYzPb+UyOgMx+bfkkMMfLVq4+PHivw/4h8a6vdaRpWq/D3w9r0Ok3aQF49Vto3itm+0NEoZZwftSfKChATcCQa7/Xvg34U8Y+JJdf1TSDc6tNClrd3EVxPDDfRgEbLiFDslRQ7YDDPv0w/Wvgv4O8Ra2Nb1DQo5NU8uKKWQSzQi6jjHyRzxIwSZUwMB89O9A7HH/tgalrNr8CPGUOk+H7jW/tGkXnmXtnfxQjT2SMlbhizhuvO1d5569h0Xwp1zxx8R/BOm3Hjbw94etNL1nS0Xy7LU5ryaZJVTaW3wJt3KzEqMgbRzk4HoN7a22qWk9neQLPZSxNbzWzj93JEyhWQDptILcYA46Z60PCPhqy8E+FdO8P6ash0zTovLt4Z3MmF3E7STz8u44OegAoCx85+BPhkfiF+zH4WQeHNIm+I/hjT5fDVl/wAJRAzw2TQSm28548AMRCN4J/vjvXqX7Kt1BafDGTwdbWGm2Y8HXZ0NrrR5TJZ3bJDFK00bFV4JnII5wVPPp6Lrfh3T/Fdg2n6lCtzas4Zo2+6xHdh6H6ZPftVrStI03QtOjsNJs4tO06IYjs7ePYkfqMZ9cn8aBNWMT4hWmvah4Tv4fDWsDQ9aKhrXUXsBeJGVYE4izl2I7AHtXyDp+p/FPxTqK/2v4p+NepR2rrIsXh7wpp+i28rLjKkyvv2nH8QHHavt6WISpwFKjjaOO2Rzg98elNOYTtDEheFwc8e2eg9qBLYyPDOr6jrXhuxvNT0q/wBDu5IhustTkge4XHGZDCSm447GvNby0/sr9qbQNQWApBq/hK/sZplVgjyw3Vs8MbsBgArPcnn0PrXrbrtVsKoJOTtHU/lVUKWyxIJUEKpUEcjk5/L9KBM8l/ZfuDpfgfxX4Okjjhk8J+KNW01IpVJH2d7hrm3kUHAKFLhCOvQjqCBgadpviH4H+MtN3+NJvHOueMNcj/tPRrmzTfNAzKryQsvzRxwxKDtcAEhsZJxXtOreFtM1q0vLae13R3JAkkRngkYKMKwkjIYMFCjII6DmqPg74YeGPBEk1zo+kW9teTri4vJS813cc8eZM+Xc/Vh9T0DsFzp5UEquqypIQcAgg9CepGfQcYrw/wCI37N+i+K/GUHizRhY+G/EbM/9oX40S2vHvUYoqxsXUlTgNyK9teYkdTxwAxJIHv8A/WqnJGJd2VGezgcjqD/TH40WC58NeGvAl7D8KvhlJa+Jbi2tJ/iPNZR29npdiiwsmqXaFlPlHJIj7mvtbw9o93ouli31DVm1u8LtI99LbQws24khQI1UYAOOnXPtWDqHwy8PX0eiQvpq29po2qjW7O3sj5aC7y7byPdpGY+5NdmQpBUepA9wOAfxxn8aYXPCPFHgTQ9f/aw8L32qeGrXUo28IamjXN3aiSIyJdWbRL6Bl3SEZP8AEaPGWvXng74meKrew22+n2HgWTWtOt7a3jjEd/FNOoaPC8uyPGpAJP7oe1e4oixyB2CllyACM9weD7lRn6VW8pFcSOivKilFYrk4ONwHPRvQ0AfLvwj+IninwH4SUajquo+MX1D4cR+MoV1V1mnTUYhi6iXJyEf7RbfIRgGNj3NXPhn8XNf1H47+H9Lm8W3PifwX4h0Od7e8k0mK1tV1ZXidIbeQornCAjDgZIbFfRQ021jv7e8S0hW5tYDbQTiP50jO3KIc/KPkXPr6VHf6Np2qraLe2NtffY5lubcz26sIZgOJIwfuty3Ix16UDseefs7t9jvvi3pqMWhsvHF8Y8rtx50Ftcvx2/eTvXVfEz4f2fxW8Mf8I7qV1e2mnXF7atMbKVonmjEys8W5SCocLgn2roILK3sZbh7eKOEzSeZIyKAZGwBubAGWwApP+z16Us75Uc9OBgkenX8uKBnx14G8JeONP/ZOk/s+TX9K8XXGqTWmoOJmutRt7D7eyMIQz87IEGCM57Zrf8d+HLG/8A+C/DU2kfEvVtI09Enh1K3htZ7qZ1VkaC8iuWJJYHIPllQGHzZyB9OzOeAuSMlsvg89c44/nVRpJAGJOWJyRyc/hn+tBR8hat8NfEng/wCH8dxc+DpL2DUfDuu+HbrT9Bt4I7i3FzNH/Z80kUSqodUjUOygnjmu++IqXnh6x+BGq6sNmraZrunWWpTup3Rrc2UtrNkpyv7yWP8ATsK923lW3b3Rjn3GPTGf61VaFLjas0aSxK6SbJBuBZHDgkEdcqpB9qBM8u1m0TTv2rfDV+IWU6r4R1O0MpG8F4ri2mjBfHcSydfSvXrlxI5YHg8qVOTjsD7Y5/Go3hjk8qQqJZIQQkjgFxx8wz23EA49hUTkISNxbnGSOoHA/QCgQjtgdAPpVeR8jHepJGwKqOxBoFYV3wKzr584OelW5CGGSazrsgKeabCO5kXU2XPaqDOA5JbAIxVi6kw2BzWZdSDK5OOtSjVn1kSw4B4pu0n3pydKdWZzDDkLjHHrRtHGDTn+7UX8Y+lAEhYBCtVynykY3E5wfSrMoG0fSq6dD9aB3IZVYOCACMCprZTIpO4cHptB/Q0OOKLTgtTuMe+QeaayE4OOP506bt9Kd/CKLgRYO09V9dp5I64HpyF5qYDJb5sgNkH1pg6U9en407gNcA5HbqfrUUjMVxkbRUjdW+tRNRdAVHTKkDgVCqEHkn8KuMBzVd6uyLIwqk88/WpEUBe4+lRjrUo+7Tsi0HHbP40q9KaO9LRZBoSRkg1Ou0Nj1qqh5qde1QwdmPkGw8fWq7deanY5HNV5PvUtRWQ2T7pHeqZBU9KsS1COlXZGb3BRxyD+BxTlfa3t9c0fwmmHrT0EEhBPFRghVOac3Wk7GjQBq4Ye1IM7hnjFPiHy0rDijQCCTiUDt1pzIrZOaafun60xPun60aAI6gVDUjdKaP8AVmjQsYxAqrcE9qkJ5qKWjQCPdlfeqsowanqGfqKNC0V2TcKj2KFOTg1N/CahejQlkRJHAPFRuTj1pzHApP8Alg31o0EQzNjGfSqrvTpWJ79qhPQ0aANdjg1mXx+U5OOK0HPBrK1E/JQGxkzthT3rIuHLkE1pTn5DWVMTmovrYu9z/9k=)"
      ],
      "metadata": {
        "id": "jk_CI9QB7KxZ"
      }
    },
    {
      "cell_type": "markdown",
      "source": [
        "# Practial Question"
      ],
      "metadata": {
        "id": "FwPr4WNDcJb7"
      }
    },
    {
      "cell_type": "code",
      "source": [
        "# 1. Write a Python function that takes a list of numbers as input and returns the sum of all even numbers in the list.\n",
        "def sum_even(numbers):\n",
        "    return sum(num for num in numbers if num % 2 == 0)\n",
        "\n",
        "print(sum_even([1, 2, 3, 4, 5, 6]))  # 12"
      ],
      "metadata": {
        "colab": {
          "base_uri": "https://localhost:8080/"
        },
        "id": "pFEPApkDRQ6Q",
        "outputId": "29a8fa58-0161-49ec-d62f-19afeba9a5d1"
      },
      "execution_count": null,
      "outputs": [
        {
          "output_type": "stream",
          "name": "stdout",
          "text": [
            "12\n"
          ]
        }
      ]
    },
    {
      "cell_type": "code",
      "source": [
        "# 2. Create a Python function that accepts a string and returns the reverse of that string.\n",
        "def reverse_string(s):\n",
        "    return s[::-1]\n",
        "\n",
        "print(\"2.\", reverse_string(\"hello\"))  # \"olleh\""
      ],
      "metadata": {
        "id": "s0reT5wnRi5u"
      },
      "execution_count": null,
      "outputs": []
    },
    {
      "cell_type": "code",
      "source": [
        "# 3. Implement a Python function that takes a list of integers and returns a new list containing the squares of each number.\n",
        "def squares(lst):\n",
        "    return [x**2 for x in lst]\n",
        "\n",
        "print(\"3.\", squares([1, 2, 3, 4]))  # [1, 4, 9, 16]"
      ],
      "metadata": {
        "id": "H1Woi_f4Rold"
      },
      "execution_count": null,
      "outputs": []
    },
    {
      "cell_type": "code",
      "source": [
        "# 4. Write a Python function that checks if a given number is prime or not from 1 to 200.\n",
        "def is_prime(n):\n",
        "    if n < 2:\n",
        "        return False\n",
        "    for i in range(2, int(n**0.5) + 1):\n",
        "        if n % i == 0:\n",
        "            return False\n",
        "    return True\n",
        "\n",
        "primes = [x for x in range(1, 201) if is_prime(x)]\n",
        "print(\"4.\", primes)"
      ],
      "metadata": {
        "id": "Ewf0cx1ZRrBW"
      },
      "execution_count": null,
      "outputs": []
    },
    {
      "cell_type": "code",
      "source": [
        "# 5. Create an iterator class in Python that generates the Fibonacci sequence up to a specified number of terms.\n",
        "class Fibonacci:\n",
        "    def __init__(self, terms):\n",
        "        self.terms = terms\n",
        "        self.count = 0\n",
        "        self.a, self.b = 0, 1\n",
        "\n",
        "    def __iter__(self):\n",
        "        return self\n",
        "\n",
        "    def __next__(self):\n",
        "        if self.count >= self.terms:\n",
        "            raise StopIteration\n",
        "        value = self.a\n",
        "        self.a, self.b = self.b, self.a + self.b\n",
        "        self.count += 1\n",
        "        return value\n",
        "\n",
        "print(\"5.\", list(Fibonacci(10)))"
      ],
      "metadata": {
        "id": "0_nt1uPTRtou"
      },
      "execution_count": null,
      "outputs": []
    },
    {
      "cell_type": "code",
      "source": [
        "# 6. Write a generator function in Python that yields the powers of 2 up to a given exponent.\n",
        "def powers_of_two(max_exponent):\n",
        "    for exp in range(max_exponent + 1):\n",
        "        yield 2 ** exp\n",
        "\n",
        "print(\"6.\", list(powers_of_two(5)))  # [1, 2, 4, 8, 16, 32]\n"
      ],
      "metadata": {
        "id": "0JEGmlvxRv_u"
      },
      "execution_count": null,
      "outputs": []
    },
    {
      "cell_type": "code",
      "source": [
        "# 7. Implement a generator function that reads a file line by line and yields each line as a string.\n",
        "def read_lines(filename):\n",
        "    with open(filename, 'r') as f:\n",
        "        for line in f:\n",
        "            yield line.rstrip('\\n')"
      ],
      "metadata": {
        "id": "u_msxOI_RyY9"
      },
      "execution_count": null,
      "outputs": []
    },
    {
      "cell_type": "code",
      "source": [
        "# 8. Use a lambda function in Python to sort a list of tuples based on the second element of each tuple.\n",
        "data = [(1, 3), (2, 1), (5, 2)]\n",
        "sorted_data = sorted(data, key=lambda x: x[1])\n",
        "print(\"8.\", sorted_data)  # [(2, 1), (5, 2), (1, 3)]"
      ],
      "metadata": {
        "id": "vm5ZVIF4RzvO"
      },
      "execution_count": null,
      "outputs": []
    },
    {
      "cell_type": "code",
      "source": [
        "# 9. Write a Python program that uses map() to convert a list of temperatures from Celsius to Fahrenheit.\n",
        "celsius = [0, 20, 37, 100]\n",
        "fahrenheit = list(map(lambda c: (c * 9/5) + 32, celsius))\n",
        "print(\"9.\", fahrenheit)  # [32.0, 68.0, 98.6, 212.0]"
      ],
      "metadata": {
        "id": "KF0WsVyoSErn"
      },
      "execution_count": null,
      "outputs": []
    },
    {
      "cell_type": "code",
      "source": [
        "# 10. Create a Python program that uses filter() to remove all the vowels from a given string.\n",
        "def remove_vowels(text):\n",
        "    return ''.join(filter(lambda ch: ch.lower() not in 'aeiou', text))\n",
        "\n",
        "print(\"10.\", remove_vowels(\"Hello World\"))  # \"Hll Wrld\""
      ],
      "metadata": {
        "id": "-sAc8AC0SGpo"
      },
      "execution_count": null,
      "outputs": []
    }
  ]
}